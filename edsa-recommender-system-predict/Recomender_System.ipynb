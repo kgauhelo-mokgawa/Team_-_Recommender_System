{
 "cells": [
  {
   "cell_type": "markdown",
   "metadata": {
    "toc": true
   },
   "source": [
    "<h1>Table of Contents<span class=\"tocSkip\"></span></h1>\n",
    "<div class=\"toc\"><ul class=\"toc-item\"><li><span><a href=\"#Introduction\" data-toc-modified-id=\"Introduction-1\"><span class=\"toc-item-num\">1&nbsp;&nbsp;</span>Introduction</a></span><ul class=\"toc-item\"><li><span><a href=\"#Overview\" data-toc-modified-id=\"Overview-1.1\"><span class=\"toc-item-num\">1.1&nbsp;&nbsp;</span>Overview</a></span></li><li><span><a href=\"#Problem-Statement\" data-toc-modified-id=\"Problem-Statement-1.2\"><span class=\"toc-item-num\">1.2&nbsp;&nbsp;</span>Problem Statement</a></span></li></ul></li><li><span><a href=\"#Comet-Experiment\" data-toc-modified-id=\"Comet-Experiment-2\"><span class=\"toc-item-num\">2&nbsp;&nbsp;</span>Comet Experiment</a></span></li><li><span><a href=\"#Loading-Dependencies\" data-toc-modified-id=\"Loading-Dependencies-3\"><span class=\"toc-item-num\">3&nbsp;&nbsp;</span>Loading Dependencies</a></span><ul class=\"toc-item\"><li><span><a href=\"#Import-the-libraries\" data-toc-modified-id=\"Import-the-libraries-3.1\"><span class=\"toc-item-num\">3.1&nbsp;&nbsp;</span>Import the libraries</a></span></li><li><span><a href=\"#Loading-the-data\" data-toc-modified-id=\"Loading-the-data-3.2\"><span class=\"toc-item-num\">3.2&nbsp;&nbsp;</span>Loading the data</a></span></li><li><span><a href=\"#Data-description\" data-toc-modified-id=\"Data-description-3.3\"><span class=\"toc-item-num\">3.3&nbsp;&nbsp;</span>Data description</a></span></li></ul></li><li><span><a href=\"#Exploratory-Data-Analysis\" data-toc-modified-id=\"Exploratory-Data-Analysis-4\"><span class=\"toc-item-num\">4&nbsp;&nbsp;</span>Exploratory Data Analysis</a></span><ul class=\"toc-item\"><li><span><a href=\"#Splitting-the-genres-and-title_casts-into-lists\" data-toc-modified-id=\"Splitting-the-genres-and-title_casts-into-lists-4.1\"><span class=\"toc-item-num\">4.1&nbsp;&nbsp;</span>Splitting the genres and title_casts into lists</a></span></li><li><span><a href=\"#Basic-analysis-of-the-trainset\" data-toc-modified-id=\"Basic-analysis-of-the-trainset-4.2\"><span class=\"toc-item-num\">4.2&nbsp;&nbsp;</span>Basic analysis of the trainset</a></span></li><li><span><a href=\"#Concatinating-the-dataset\" data-toc-modified-id=\"Concatinating-the-dataset-4.3\"><span class=\"toc-item-num\">4.3&nbsp;&nbsp;</span>Concatinating the dataset</a></span></li><li><span><a href=\"#Ratings\" data-toc-modified-id=\"Ratings-4.4\"><span class=\"toc-item-num\">4.4&nbsp;&nbsp;</span>Ratings</a></span><ul class=\"toc-item\"><li><span><a href=\"#User-Ratings\" data-toc-modified-id=\"User-Ratings-4.4.1\"><span class=\"toc-item-num\">4.4.1&nbsp;&nbsp;</span>User Ratings</a></span></li></ul></li><li><span><a href=\"#Heatmap\" data-toc-modified-id=\"Heatmap-4.5\"><span class=\"toc-item-num\">4.5&nbsp;&nbsp;</span>Heatmap</a></span></li><li><span><a href=\"#Genres\" data-toc-modified-id=\"Genres-4.6\"><span class=\"toc-item-num\">4.6&nbsp;&nbsp;</span>Genres</a></span></li><li><span><a href=\"#Movies-per-year\" data-toc-modified-id=\"Movies-per-year-4.7\"><span class=\"toc-item-num\">4.7&nbsp;&nbsp;</span>Movies per year</a></span></li><li><span><a href=\"#Tags\" data-toc-modified-id=\"Tags-4.8\"><span class=\"toc-item-num\">4.8&nbsp;&nbsp;</span>Tags</a></span></li><li><span><a href=\"#Casts\" data-toc-modified-id=\"Casts-4.9\"><span class=\"toc-item-num\">4.9&nbsp;&nbsp;</span>Casts</a></span></li><li><span><a href=\"#Runtime\" data-toc-modified-id=\"Runtime-4.10\"><span class=\"toc-item-num\">4.10&nbsp;&nbsp;</span>Runtime</a></span><ul class=\"toc-item\"><li><span><a href=\"#Shortest-movies\" data-toc-modified-id=\"Shortest-movies-4.10.1\"><span class=\"toc-item-num\">4.10.1&nbsp;&nbsp;</span>Shortest movies</a></span></li><li><span><a href=\"#Longest-Movies\" data-toc-modified-id=\"Longest-Movies-4.10.2\"><span class=\"toc-item-num\">4.10.2&nbsp;&nbsp;</span>Longest Movies</a></span></li></ul></li></ul></li><li><span><a href=\"#Data-Preprocessing\" data-toc-modified-id=\"Data-Preprocessing-5\"><span class=\"toc-item-num\">5&nbsp;&nbsp;</span>Data Preprocessing</a></span></li><li><span><a href=\"#Modelling\" data-toc-modified-id=\"Modelling-6\"><span class=\"toc-item-num\">6&nbsp;&nbsp;</span>Modelling</a></span><ul class=\"toc-item\"><li><span><a href=\"#Content-Based-Filtering\" data-toc-modified-id=\"Content-Based-Filtering-6.1\"><span class=\"toc-item-num\">6.1&nbsp;&nbsp;</span>Content-Based Filtering</a></span><ul class=\"toc-item\"><li><span><a href=\"#Vectorizing-the-content\" data-toc-modified-id=\"Vectorizing-the-content-6.1.1\"><span class=\"toc-item-num\">6.1.1&nbsp;&nbsp;</span>Vectorizing the content</a></span></li><li><span><a href=\"#Finding-the-Similarities-between-movies\" data-toc-modified-id=\"Finding-the-Similarities-between-movies-6.1.2\"><span class=\"toc-item-num\">6.1.2&nbsp;&nbsp;</span>Finding the Similarities between movies</a></span></li><li><span><a href=\"#Top-10-recommendations-based-on-a-movie-title\" data-toc-modified-id=\"Top-10-recommendations-based-on-a-movie-title-6.1.3\"><span class=\"toc-item-num\">6.1.3&nbsp;&nbsp;</span>Top 10 recommendations based on a movie title</a></span></li></ul></li><li><span><a href=\"#Collaborative-Based-Filtering\" data-toc-modified-id=\"Collaborative-Based-Filtering-6.2\"><span class=\"toc-item-num\">6.2&nbsp;&nbsp;</span>Collaborative-Based Filtering</a></span><ul class=\"toc-item\"><li><span><a href=\"#Basic-algorithms\" data-toc-modified-id=\"Basic-algorithms-6.2.1\"><span class=\"toc-item-num\">6.2.1&nbsp;&nbsp;</span>Basic algorithms</a></span></li><li><span><a href=\"#k-NN-algorithms\" data-toc-modified-id=\"k-NN-algorithms-6.2.2\"><span class=\"toc-item-num\">6.2.2&nbsp;&nbsp;</span>k-NN algorithms</a></span></li><li><span><a href=\"#Matrix-Factorization-based-algorithms\" data-toc-modified-id=\"Matrix-Factorization-based-algorithms-6.2.3\"><span class=\"toc-item-num\">6.2.3&nbsp;&nbsp;</span>Matrix Factorization-based algorithms</a></span></li><li><span><a href=\"#Using-the-Suprise-Library\" data-toc-modified-id=\"Using-the-Suprise-Library-6.2.4\"><span class=\"toc-item-num\">6.2.4&nbsp;&nbsp;</span>Using the Suprise Library</a></span><ul class=\"toc-item\"><li><span><a href=\"#Predicting-with-SVDpp-algorithm\" data-toc-modified-id=\"Predicting-with-SVDpp-algorithm-6.2.4.1\"><span class=\"toc-item-num\">6.2.4.1&nbsp;&nbsp;</span>Predicting with SVDpp algorithm</a></span></li><li><span><a href=\"#Predicting-with-BaselineOnly-algorithm\" data-toc-modified-id=\"Predicting-with-BaselineOnly-algorithm-6.2.4.2\"><span class=\"toc-item-num\">6.2.4.2&nbsp;&nbsp;</span>Predicting with BaselineOnly algorithm</a></span></li><li><span><a href=\"#Predicting-with-SVD-algorithm\" data-toc-modified-id=\"Predicting-with-SVD-algorithm-6.2.4.3\"><span class=\"toc-item-num\">6.2.4.3&nbsp;&nbsp;</span>Predicting with SVD algorithm</a></span></li></ul></li><li><span><a href=\"#Hyperparameter-Tuning\" data-toc-modified-id=\"Hyperparameter-Tuning-6.2.5\"><span class=\"toc-item-num\">6.2.5&nbsp;&nbsp;</span>Hyperparameter Tuning</a></span></li></ul></li></ul></li><li><span><a href=\"#Conclusion\" data-toc-modified-id=\"Conclusion-7\"><span class=\"toc-item-num\">7&nbsp;&nbsp;</span>Conclusion</a></span></li><li><span><a href=\"#References\" data-toc-modified-id=\"References-8\"><span class=\"toc-item-num\">8&nbsp;&nbsp;</span>References</a></span></li></ul></div>"
   ]
  },
  {
   "cell_type": "markdown",
   "metadata": {},
   "source": [
    "# Introduction "
   ]
  },
  {
   "cell_type": "markdown",
   "metadata": {},
   "source": [
    "## Overview"
   ]
  },
  {
   "cell_type": "markdown",
   "metadata": {},
   "source": [
    "On the internet, where the number of choices is overwhelming, there is a need to filter, prioritize and efficiently deliver relevant information in order to reduce the problem of information overload, which has created a potential problem to many Internet users. Recommender systems solve this problem by searching through large volume of dynamically generated information to provide users with personalized content and services. \n",
    "\n",
    "Recommender systems are information filtering systems that deal with the problem of information overload by filtering vital information fragment out of large amount of dynamically generated information according to user’s preferences, interest, or observed behaviour about item. Recommender system has the ability to predict whether a particular user would prefer an item or not based on the user’s profile.\n",
    "\n",
    "Recommender systems are beneficial to both service providers and users. They reduce transaction costs of finding and selecting items in an online shopping environment. Recommendation systems have also proved to improve decision making process and quality.\n"
   ]
  },
  {
   "cell_type": "markdown",
   "metadata": {},
   "source": [
    "## Problem Statement"
   ]
  },
  {
   "cell_type": "markdown",
   "metadata": {},
   "source": [
    "The main objective of this project is to construct a recommendation algorithm based on content or collaborative filtering, capable of accurately predicting how a user will rate a movie they have not yet viewed based on their historical preferences."
   ]
  },
  {
   "cell_type": "markdown",
   "metadata": {},
   "source": [
    "# Comet Experiment"
   ]
  },
  {
   "cell_type": "code",
   "execution_count": null,
   "metadata": {},
   "outputs": [],
   "source": [
    "!pip3 install comet_ml"
   ]
  },
  {
   "cell_type": "code",
   "execution_count": null,
   "metadata": {},
   "outputs": [],
   "source": [
    "import comet_ml \n",
    "from comet_ml import Experiment\n",
    "\n",
    "experiment = Experiment(api_key=\"HMrbLtwTWvfD9ZZURW09l1p8x\",\n",
    "                        project_name=\"unsupervised learning predict\",workspace=\"malibongwe-xulu\")"
   ]
  },
  {
   "cell_type": "markdown",
   "metadata": {},
   "source": [
    "# Loading Dependencies"
   ]
  },
  {
   "cell_type": "markdown",
   "metadata": {},
   "source": [
    "## Import the libraries"
   ]
  },
  {
   "cell_type": "code",
   "execution_count": 15,
   "metadata": {},
   "outputs": [
    {
     "data": {
      "text/plain": [
       "['WARNING: Retrying (Retry(total=4, connect=None, read=None, redirect=None, status=None)) after connection broken by \\'ReadTimeoutError(\"HTTPSConnectionPool(host=\\'pypi.org\\', port=443): Read timed out. (read timeout=15)\")\\': /simple/surprise/',\n",
       " 'Collecting surprise',\n",
       " '  Using cached surprise-0.1-py2.py3-none-any.whl (1.8 kB)',\n",
       " 'Collecting scikit-surprise',\n",
       " '  Using cached scikit-surprise-1.1.1.tar.gz (11.8 MB)',\n",
       " 'Requirement already satisfied: joblib>=0.11 in c:\\\\users\\\\venetia mokgawa\\\\anaconda3\\\\lib\\\\site-packages (from scikit-surprise->surprise) (0.14.1)',\n",
       " 'Requirement already satisfied: numpy>=1.11.2 in c:\\\\users\\\\venetia mokgawa\\\\anaconda3\\\\lib\\\\site-packages (from scikit-surprise->surprise) (1.18.5)',\n",
       " 'Requirement already satisfied: scipy>=1.0.0 in c:\\\\users\\\\venetia mokgawa\\\\anaconda3\\\\lib\\\\site-packages (from scikit-surprise->surprise) (1.4.1)',\n",
       " 'Requirement already satisfied: six>=1.10.0 in c:\\\\users\\\\venetia mokgawa\\\\anaconda3\\\\lib\\\\site-packages (from scikit-surprise->surprise) (1.14.0)',\n",
       " 'Building wheels for collected packages: scikit-surprise',\n",
       " '  Building wheel for scikit-surprise (setup.py): started',\n",
       " \"  Building wheel for scikit-surprise (setup.py): finished with status 'error'\",\n",
       " '  ERROR: Command errored out with exit status 1:',\n",
       " '   command: \\'C:\\\\Users\\\\venetia mokgawa\\\\anaconda3\\\\python.exe\\' -u -c \\'import sys, setuptools, tokenize; sys.argv[0] = \\'\"\\'\"\\'C:\\\\\\\\Users\\\\\\\\VENETI~1\\\\\\\\AppData\\\\\\\\Local\\\\\\\\Temp\\\\\\\\pip-install-qm_eh2hg\\\\\\\\scikit-surprise\\\\\\\\setup.py\\'\"\\'\"\\'; __file__=\\'\"\\'\"\\'C:\\\\\\\\Users\\\\\\\\VENETI~1\\\\\\\\AppData\\\\\\\\Local\\\\\\\\Temp\\\\\\\\pip-install-qm_eh2hg\\\\\\\\scikit-surprise\\\\\\\\setup.py\\'\"\\'\"\\';f=getattr(tokenize, \\'\"\\'\"\\'open\\'\"\\'\"\\', open)(__file__);code=f.read().replace(\\'\"\\'\"\\'\\\\r\\\\n\\'\"\\'\"\\', \\'\"\\'\"\\'\\\\n\\'\"\\'\"\\');f.close();exec(compile(code, __file__, \\'\"\\'\"\\'exec\\'\"\\'\"\\'))\\' bdist_wheel -d \\'C:\\\\Users\\\\VENETI~1\\\\AppData\\\\Local\\\\Temp\\\\pip-wheel-dkudzszt\\'',\n",
       " '       cwd: C:\\\\Users\\\\VENETI~1\\\\AppData\\\\Local\\\\Temp\\\\pip-install-qm_eh2hg\\\\scikit-surprise\\\\',\n",
       " '  Complete output (49 lines):',\n",
       " '  running bdist_wheel',\n",
       " '  running build',\n",
       " '  running build_py',\n",
       " '  creating build',\n",
       " '  creating build\\\\lib.win-amd64-3.7',\n",
       " '  creating build\\\\lib.win-amd64-3.7\\\\surprise',\n",
       " '  copying surprise\\\\accuracy.py -> build\\\\lib.win-amd64-3.7\\\\surprise',\n",
       " '  copying surprise\\\\builtin_datasets.py -> build\\\\lib.win-amd64-3.7\\\\surprise',\n",
       " '  copying surprise\\\\dataset.py -> build\\\\lib.win-amd64-3.7\\\\surprise',\n",
       " '  copying surprise\\\\dump.py -> build\\\\lib.win-amd64-3.7\\\\surprise',\n",
       " '  copying surprise\\\\reader.py -> build\\\\lib.win-amd64-3.7\\\\surprise',\n",
       " '  copying surprise\\\\trainset.py -> build\\\\lib.win-amd64-3.7\\\\surprise',\n",
       " '  copying surprise\\\\utils.py -> build\\\\lib.win-amd64-3.7\\\\surprise',\n",
       " '  copying surprise\\\\__init__.py -> build\\\\lib.win-amd64-3.7\\\\surprise',\n",
       " '  copying surprise\\\\__main__.py -> build\\\\lib.win-amd64-3.7\\\\surprise',\n",
       " '  creating build\\\\lib.win-amd64-3.7\\\\surprise\\\\model_selection',\n",
       " '  copying surprise\\\\model_selection\\\\search.py -> build\\\\lib.win-amd64-3.7\\\\surprise\\\\model_selection',\n",
       " '  copying surprise\\\\model_selection\\\\split.py -> build\\\\lib.win-amd64-3.7\\\\surprise\\\\model_selection',\n",
       " '  copying surprise\\\\model_selection\\\\validation.py -> build\\\\lib.win-amd64-3.7\\\\surprise\\\\model_selection',\n",
       " '  copying surprise\\\\model_selection\\\\__init__.py -> build\\\\lib.win-amd64-3.7\\\\surprise\\\\model_selection',\n",
       " '  creating build\\\\lib.win-amd64-3.7\\\\surprise\\\\prediction_algorithms',\n",
       " '  copying surprise\\\\prediction_algorithms\\\\algo_base.py -> build\\\\lib.win-amd64-3.7\\\\surprise\\\\prediction_algorithms',\n",
       " '  copying surprise\\\\prediction_algorithms\\\\baseline_only.py -> build\\\\lib.win-amd64-3.7\\\\surprise\\\\prediction_algorithms',\n",
       " '  copying surprise\\\\prediction_algorithms\\\\knns.py -> build\\\\lib.win-amd64-3.7\\\\surprise\\\\prediction_algorithms',\n",
       " '  copying surprise\\\\prediction_algorithms\\\\predictions.py -> build\\\\lib.win-amd64-3.7\\\\surprise\\\\prediction_algorithms',\n",
       " '  copying surprise\\\\prediction_algorithms\\\\random_pred.py -> build\\\\lib.win-amd64-3.7\\\\surprise\\\\prediction_algorithms',\n",
       " '  copying surprise\\\\prediction_algorithms\\\\__init__.py -> build\\\\lib.win-amd64-3.7\\\\surprise\\\\prediction_algorithms',\n",
       " '  running egg_info',\n",
       " '  writing scikit_surprise.egg-info\\\\PKG-INFO',\n",
       " '  writing dependency_links to scikit_surprise.egg-info\\\\dependency_links.txt',\n",
       " '  writing entry points to scikit_surprise.egg-info\\\\entry_points.txt',\n",
       " '  writing requirements to scikit_surprise.egg-info\\\\requires.txt',\n",
       " '  writing top-level names to scikit_surprise.egg-info\\\\top_level.txt',\n",
       " \"  reading manifest file 'scikit_surprise.egg-info\\\\SOURCES.txt'\",\n",
       " \"  reading manifest template 'MANIFEST.in'\",\n",
       " \"  writing manifest file 'scikit_surprise.egg-info\\\\SOURCES.txt'\",\n",
       " '  copying surprise\\\\similarities.c -> build\\\\lib.win-amd64-3.7\\\\surprise',\n",
       " '  copying surprise\\\\similarities.pyx -> build\\\\lib.win-amd64-3.7\\\\surprise',\n",
       " '  copying surprise\\\\prediction_algorithms\\\\co_clustering.c -> build\\\\lib.win-amd64-3.7\\\\surprise\\\\prediction_algorithms',\n",
       " '  copying surprise\\\\prediction_algorithms\\\\matrix_factorization.c -> build\\\\lib.win-amd64-3.7\\\\surprise\\\\prediction_algorithms',\n",
       " '  copying surprise\\\\prediction_algorithms\\\\optimize_baselines.c -> build\\\\lib.win-amd64-3.7\\\\surprise\\\\prediction_algorithms',\n",
       " '  copying surprise\\\\prediction_algorithms\\\\slope_one.c -> build\\\\lib.win-amd64-3.7\\\\surprise\\\\prediction_algorithms',\n",
       " '  copying surprise\\\\prediction_algorithms\\\\co_clustering.pyx -> build\\\\lib.win-amd64-3.7\\\\surprise\\\\prediction_algorithms',\n",
       " '  copying surprise\\\\prediction_algorithms\\\\matrix_factorization.pyx -> build\\\\lib.win-amd64-3.7\\\\surprise\\\\prediction_algorithms',\n",
       " '  copying surprise\\\\prediction_algorithms\\\\optimize_baselines.pyx -> build\\\\lib.win-amd64-3.7\\\\surprise\\\\prediction_algorithms',\n",
       " '  copying surprise\\\\prediction_algorithms\\\\slope_one.pyx -> build\\\\lib.win-amd64-3.7\\\\surprise\\\\prediction_algorithms',\n",
       " '  running build_ext',\n",
       " \"  building 'surprise.similarities' extension\",\n",
       " '  error: Microsoft Visual C++ 14.0 is required. Get it with \"Build Tools for Visual Studio\": https://visualstudio.microsoft.com/downloads/',\n",
       " '  ----------------------------------------',\n",
       " '  ERROR: Failed building wheel for scikit-surprise',\n",
       " '  Running setup.py clean for scikit-surprise',\n",
       " 'Failed to build scikit-surprise',\n",
       " 'Installing collected packages: scikit-surprise, surprise',\n",
       " '    Running setup.py install for scikit-surprise: started',\n",
       " \"    Running setup.py install for scikit-surprise: finished with status 'error'\",\n",
       " '    ERROR: Command errored out with exit status 1:',\n",
       " '     command: \\'C:\\\\Users\\\\venetia mokgawa\\\\anaconda3\\\\python.exe\\' -u -c \\'import sys, setuptools, tokenize; sys.argv[0] = \\'\"\\'\"\\'C:\\\\\\\\Users\\\\\\\\VENETI~1\\\\\\\\AppData\\\\\\\\Local\\\\\\\\Temp\\\\\\\\pip-install-qm_eh2hg\\\\\\\\scikit-surprise\\\\\\\\setup.py\\'\"\\'\"\\'; __file__=\\'\"\\'\"\\'C:\\\\\\\\Users\\\\\\\\VENETI~1\\\\\\\\AppData\\\\\\\\Local\\\\\\\\Temp\\\\\\\\pip-install-qm_eh2hg\\\\\\\\scikit-surprise\\\\\\\\setup.py\\'\"\\'\"\\';f=getattr(tokenize, \\'\"\\'\"\\'open\\'\"\\'\"\\', open)(__file__);code=f.read().replace(\\'\"\\'\"\\'\\\\r\\\\n\\'\"\\'\"\\', \\'\"\\'\"\\'\\\\n\\'\"\\'\"\\');f.close();exec(compile(code, __file__, \\'\"\\'\"\\'exec\\'\"\\'\"\\'))\\' install --record \\'C:\\\\Users\\\\VENETI~1\\\\AppData\\\\Local\\\\Temp\\\\pip-record-39863m84\\\\install-record.txt\\' --single-version-externally-managed --compile --install-headers \\'C:\\\\Users\\\\venetia mokgawa\\\\anaconda3\\\\Include\\\\scikit-surprise\\'',\n",
       " '         cwd: C:\\\\Users\\\\VENETI~1\\\\AppData\\\\Local\\\\Temp\\\\pip-install-qm_eh2hg\\\\scikit-surprise\\\\',\n",
       " '    Complete output (49 lines):',\n",
       " '    running install',\n",
       " '    running build',\n",
       " '    running build_py',\n",
       " '    creating build',\n",
       " '    creating build\\\\lib.win-amd64-3.7',\n",
       " '    creating build\\\\lib.win-amd64-3.7\\\\surprise',\n",
       " '    copying surprise\\\\accuracy.py -> build\\\\lib.win-amd64-3.7\\\\surprise',\n",
       " '    copying surprise\\\\builtin_datasets.py -> build\\\\lib.win-amd64-3.7\\\\surprise',\n",
       " '    copying surprise\\\\dataset.py -> build\\\\lib.win-amd64-3.7\\\\surprise',\n",
       " '    copying surprise\\\\dump.py -> build\\\\lib.win-amd64-3.7\\\\surprise',\n",
       " '    copying surprise\\\\reader.py -> build\\\\lib.win-amd64-3.7\\\\surprise',\n",
       " '    copying surprise\\\\trainset.py -> build\\\\lib.win-amd64-3.7\\\\surprise',\n",
       " '    copying surprise\\\\utils.py -> build\\\\lib.win-amd64-3.7\\\\surprise',\n",
       " '    copying surprise\\\\__init__.py -> build\\\\lib.win-amd64-3.7\\\\surprise',\n",
       " '    copying surprise\\\\__main__.py -> build\\\\lib.win-amd64-3.7\\\\surprise',\n",
       " '    creating build\\\\lib.win-amd64-3.7\\\\surprise\\\\model_selection',\n",
       " '    copying surprise\\\\model_selection\\\\search.py -> build\\\\lib.win-amd64-3.7\\\\surprise\\\\model_selection',\n",
       " '    copying surprise\\\\model_selection\\\\split.py -> build\\\\lib.win-amd64-3.7\\\\surprise\\\\model_selection',\n",
       " '    copying surprise\\\\model_selection\\\\validation.py -> build\\\\lib.win-amd64-3.7\\\\surprise\\\\model_selection',\n",
       " '    copying surprise\\\\model_selection\\\\__init__.py -> build\\\\lib.win-amd64-3.7\\\\surprise\\\\model_selection',\n",
       " '    creating build\\\\lib.win-amd64-3.7\\\\surprise\\\\prediction_algorithms',\n",
       " '    copying surprise\\\\prediction_algorithms\\\\algo_base.py -> build\\\\lib.win-amd64-3.7\\\\surprise\\\\prediction_algorithms',\n",
       " '    copying surprise\\\\prediction_algorithms\\\\baseline_only.py -> build\\\\lib.win-amd64-3.7\\\\surprise\\\\prediction_algorithms',\n",
       " '    copying surprise\\\\prediction_algorithms\\\\knns.py -> build\\\\lib.win-amd64-3.7\\\\surprise\\\\prediction_algorithms',\n",
       " '    copying surprise\\\\prediction_algorithms\\\\predictions.py -> build\\\\lib.win-amd64-3.7\\\\surprise\\\\prediction_algorithms',\n",
       " '    copying surprise\\\\prediction_algorithms\\\\random_pred.py -> build\\\\lib.win-amd64-3.7\\\\surprise\\\\prediction_algorithms',\n",
       " '    copying surprise\\\\prediction_algorithms\\\\__init__.py -> build\\\\lib.win-amd64-3.7\\\\surprise\\\\prediction_algorithms',\n",
       " '    running egg_info',\n",
       " '    writing scikit_surprise.egg-info\\\\PKG-INFO',\n",
       " '    writing dependency_links to scikit_surprise.egg-info\\\\dependency_links.txt',\n",
       " '    writing entry points to scikit_surprise.egg-info\\\\entry_points.txt',\n",
       " '    writing requirements to scikit_surprise.egg-info\\\\requires.txt',\n",
       " '    writing top-level names to scikit_surprise.egg-info\\\\top_level.txt',\n",
       " \"    reading manifest file 'scikit_surprise.egg-info\\\\SOURCES.txt'\",\n",
       " \"    reading manifest template 'MANIFEST.in'\",\n",
       " \"    writing manifest file 'scikit_surprise.egg-info\\\\SOURCES.txt'\",\n",
       " '    copying surprise\\\\similarities.c -> build\\\\lib.win-amd64-3.7\\\\surprise',\n",
       " '    copying surprise\\\\similarities.pyx -> build\\\\lib.win-amd64-3.7\\\\surprise',\n",
       " '    copying surprise\\\\prediction_algorithms\\\\co_clustering.c -> build\\\\lib.win-amd64-3.7\\\\surprise\\\\prediction_algorithms',\n",
       " '    copying surprise\\\\prediction_algorithms\\\\matrix_factorization.c -> build\\\\lib.win-amd64-3.7\\\\surprise\\\\prediction_algorithms',\n",
       " '    copying surprise\\\\prediction_algorithms\\\\optimize_baselines.c -> build\\\\lib.win-amd64-3.7\\\\surprise\\\\prediction_algorithms',\n",
       " '    copying surprise\\\\prediction_algorithms\\\\slope_one.c -> build\\\\lib.win-amd64-3.7\\\\surprise\\\\prediction_algorithms',\n",
       " '    copying surprise\\\\prediction_algorithms\\\\co_clustering.pyx -> build\\\\lib.win-amd64-3.7\\\\surprise\\\\prediction_algorithms',\n",
       " '    copying surprise\\\\prediction_algorithms\\\\matrix_factorization.pyx -> build\\\\lib.win-amd64-3.7\\\\surprise\\\\prediction_algorithms',\n",
       " '    copying surprise\\\\prediction_algorithms\\\\optimize_baselines.pyx -> build\\\\lib.win-amd64-3.7\\\\surprise\\\\prediction_algorithms',\n",
       " '    copying surprise\\\\prediction_algorithms\\\\slope_one.pyx -> build\\\\lib.win-amd64-3.7\\\\surprise\\\\prediction_algorithms',\n",
       " '    running build_ext',\n",
       " \"    building 'surprise.similarities' extension\",\n",
       " '    error: Microsoft Visual C++ 14.0 is required. Get it with \"Build Tools for Visual Studio\": https://visualstudio.microsoft.com/downloads/',\n",
       " '    ----------------------------------------',\n",
       " 'ERROR: Command errored out with exit status 1: \\'C:\\\\Users\\\\venetia mokgawa\\\\anaconda3\\\\python.exe\\' -u -c \\'import sys, setuptools, tokenize; sys.argv[0] = \\'\"\\'\"\\'C:\\\\\\\\Users\\\\\\\\VENETI~1\\\\\\\\AppData\\\\\\\\Local\\\\\\\\Temp\\\\\\\\pip-install-qm_eh2hg\\\\\\\\scikit-surprise\\\\\\\\setup.py\\'\"\\'\"\\'; __file__=\\'\"\\'\"\\'C:\\\\\\\\Users\\\\\\\\VENETI~1\\\\\\\\AppData\\\\\\\\Local\\\\\\\\Temp\\\\\\\\pip-install-qm_eh2hg\\\\\\\\scikit-surprise\\\\\\\\setup.py\\'\"\\'\"\\';f=getattr(tokenize, \\'\"\\'\"\\'open\\'\"\\'\"\\', open)(__file__);code=f.read().replace(\\'\"\\'\"\\'\\\\r\\\\n\\'\"\\'\"\\', \\'\"\\'\"\\'\\\\n\\'\"\\'\"\\');f.close();exec(compile(code, __file__, \\'\"\\'\"\\'exec\\'\"\\'\"\\'))\\' install --record \\'C:\\\\Users\\\\VENETI~1\\\\AppData\\\\Local\\\\Temp\\\\pip-record-39863m84\\\\install-record.txt\\' --single-version-externally-managed --compile --install-headers \\'C:\\\\Users\\\\venetia mokgawa\\\\anaconda3\\\\Include\\\\scikit-surprise\\' Check the logs for full command output.']"
      ]
     },
     "execution_count": 15,
     "metadata": {},
     "output_type": "execute_result"
    }
   ],
   "source": [
    "!!pip install surprise"
   ]
  },
  {
   "cell_type": "code",
   "execution_count": 16,
   "metadata": {},
   "outputs": [
    {
     "ename": "ModuleNotFoundError",
     "evalue": "No module named 'surprise'",
     "output_type": "error",
     "traceback": [
      "\u001b[1;31m---------------------------------------------------------------------------\u001b[0m",
      "\u001b[1;31mModuleNotFoundError\u001b[0m                       Traceback (most recent call last)",
      "\u001b[1;32m<ipython-input-16-6dee64a31e74>\u001b[0m in \u001b[0;36m<module>\u001b[1;34m\u001b[0m\n\u001b[0;32m     13\u001b[0m \u001b[1;32mfrom\u001b[0m \u001b[0myellowbrick\u001b[0m\u001b[1;33m.\u001b[0m\u001b[0mcluster\u001b[0m \u001b[1;32mimport\u001b[0m \u001b[0mKElbowVisualizer\u001b[0m\u001b[1;33m\u001b[0m\u001b[1;33m\u001b[0m\u001b[0m\n\u001b[0;32m     14\u001b[0m \u001b[1;33m\u001b[0m\u001b[0m\n\u001b[1;32m---> 15\u001b[1;33m \u001b[1;32mfrom\u001b[0m \u001b[0msurprise\u001b[0m\u001b[1;33m.\u001b[0m\u001b[0mreader\u001b[0m \u001b[1;32mimport\u001b[0m \u001b[0mReader\u001b[0m\u001b[1;33m\u001b[0m\u001b[1;33m\u001b[0m\u001b[0m\n\u001b[0m\u001b[0;32m     16\u001b[0m \u001b[1;32mfrom\u001b[0m \u001b[0msurprise\u001b[0m\u001b[1;33m.\u001b[0m\u001b[0mdataset\u001b[0m \u001b[1;32mimport\u001b[0m \u001b[0mDataset\u001b[0m\u001b[1;33m\u001b[0m\u001b[1;33m\u001b[0m\u001b[0m\n\u001b[0;32m     17\u001b[0m \u001b[1;32mfrom\u001b[0m \u001b[0msurprise\u001b[0m \u001b[1;32mimport\u001b[0m \u001b[0mSVD\u001b[0m\u001b[1;33m,\u001b[0m \u001b[0mSVDpp\u001b[0m\u001b[1;33m,\u001b[0m \u001b[0mSlopeOne\u001b[0m\u001b[1;33m,\u001b[0m \u001b[0mNMF\u001b[0m\u001b[1;33m,\u001b[0m \u001b[0mNormalPredictor\u001b[0m\u001b[1;33m\u001b[0m\u001b[1;33m\u001b[0m\u001b[0m\n",
      "\u001b[1;31mModuleNotFoundError\u001b[0m: No module named 'surprise'"
     ]
    }
   ],
   "source": [
    "import numpy as np\n",
    "import pandas as pd\n",
    "import matplotlib.pyplot as plt\n",
    "from sklearn.cluster import KMeans\n",
    "from scipy.cluster.hierarchy import linkage,dendrogram\n",
    "from sklearn.pipeline import make_pipeline\n",
    "from sklearn.preprocessing import StandardScaler\n",
    "from sklearn.preprocessing import Normalizer\n",
    "from sklearn.decomposition import PCA\n",
    "from sklearn.decomposition import NMF\n",
    "from sklearn.manifold import TSNE\n",
    "from sklearn.feature_extraction.text import TfidfVectorizer\n",
    "from yellowbrick.cluster import KElbowVisualizer\n",
    "\n",
    "from surprise.reader import Reader\n",
    "from surprise.dataset import Dataset\n",
    "from surprise import SVD, SVDpp, SlopeOne, NMF, NormalPredictor\n",
    "from surprise import KNNBaseline, KNNBasic, KNNWithMeans, KNNWithZScore\n",
    "from surprise import BaselineOnly, CoClustering\n",
    "from surprise.model_selection import cross_validate, train_test_split\n",
    "from surprise import accuracy\n",
    "\n",
    "import numpy as np \n",
    "import pandas as pd\n",
    "\n",
    "import scipy as sp \n",
    "import matplotlib.pyplot as plt\n",
    "import seaborn as sns\n",
    "\n",
    "from datetime import datetime\n",
    "from sklearn.metrics.pairwise import cosine_similarity\n",
    "from sklearn.feature_extraction.text import TfidfVectorizer\n",
    "from sklearn.metrics.pairwise import linear_kernel\n",
    "import cufflinks as cf\n",
    "from sklearn.preprocessing import StandardScaler\n",
    "from sklearn import preprocessing\n",
    "from sklearn.decomposition import PCA\n",
    "from surprise.model_selection import train_test_split\n",
    "from surprise.model_selection import cross_validate\n",
    "\n",
    "import operator \n",
    "import heapq \n",
    "import xgboost as xgb\n",
    "from surprise import Reader, Dataset\n",
    "from surprise import BaselineOnly\n",
    "from surprise import KNNBaseline\n",
    "from surprise import KNNWithMeans\n",
    "from surprise import SVD\n",
    "from surprise import SVDpp\n",
    "from surprise.model_selection import GridSearchCV\n",
    "\n",
    "#other libraries\n",
    "import warnings\n",
    "warnings.filterwarnings('ignore')\n",
    "from IPython.display import YouTubeVideo\n",
    "from collections import defaultdict\n",
    "import datetime\n",
    "import re\n",
    "from IPython.display import Video\n",
    "\n",
    "import warnings\n",
    "warnings.filterwarnings('ignore')"
   ]
  },
  {
   "cell_type": "markdown",
   "metadata": {},
   "source": [
    "## Loading the data"
   ]
  },
  {
   "cell_type": "code",
   "execution_count": 7,
   "metadata": {},
   "outputs": [],
   "source": [
    "genome_scores = pd.read_csv('genome_scores.csv')\n",
    "genome_tags = pd.read_csv('genome_tags.csv')\n",
    "imdb = pd.read_csv('imdb_data.csv')\n",
    "links = pd.read_csv('links.csv')\n",
    "movies = pd.read_csv('movies.csv')\n",
    "tags = pd.read_csv('tags.csv')\n",
    "test = pd.read_csv('test.csv')\n",
    "train = pd.read_csv('train.csv')\n",
    "sample_submission = pd.read_csv('sample_submission.csv')"
   ]
  },
  {
   "cell_type": "markdown",
   "metadata": {},
   "source": [
    "## Data description"
   ]
  },
  {
   "cell_type": "markdown",
   "metadata": {},
   "source": [
    "* genome_scores.csv - a score mapping the strength between movies and tag-related properties.\n",
    "* genome_tags.csv - user assigned tags for genome-related scores.\n",
    "* imdb_data.csv - Additional movie metadata scraped from IMDB using the links.csv file.\n",
    "* links.csv - File providing a mapping between a MovieLens ID and associated IMDB and TMDB IDs.\n",
    "* sample_submission.csv - Sample of the submission format for the hackathon.\n",
    "* tags.csv - User assigned for the movies within the dataset.\n",
    "* test.csv - The test split of the dataset. Contains user and movie IDs with no rating data.\n",
    "* train.csv - The training split of the dataset. Contains user and movie IDs with associated rating data."
   ]
  },
  {
   "cell_type": "code",
   "execution_count": 35,
   "metadata": {},
   "outputs": [
    {
     "name": "stdout",
     "output_type": "stream",
     "text": [
      "(10000038, 4)\n",
      "<class 'pandas.core.frame.DataFrame'>\n",
      "RangeIndex: 10000038 entries, 0 to 10000037\n",
      "Data columns (total 4 columns):\n",
      " #   Column     Dtype  \n",
      "---  ------     -----  \n",
      " 0   userId     int64  \n",
      " 1   movieId    int64  \n",
      " 2   rating     float64\n",
      " 3   timestamp  int64  \n",
      "dtypes: float64(1), int64(3)\n",
      "memory usage: 305.2 MB\n"
     ]
    }
   ],
   "source": [
    "print(train.shape)\n",
    "train.info()"
   ]
  },
  {
   "cell_type": "code",
   "execution_count": 36,
   "metadata": {},
   "outputs": [
    {
     "name": "stdout",
     "output_type": "stream",
     "text": [
      "(5000019, 2)\n",
      "<class 'pandas.core.frame.DataFrame'>\n",
      "RangeIndex: 5000019 entries, 0 to 5000018\n",
      "Data columns (total 2 columns):\n",
      " #   Column   Dtype\n",
      "---  ------   -----\n",
      " 0   userId   int64\n",
      " 1   movieId  int64\n",
      "dtypes: int64(2)\n",
      "memory usage: 76.3 MB\n"
     ]
    }
   ],
   "source": [
    "print(test.shape)\n",
    "test.info()"
   ]
  },
  {
   "cell_type": "code",
   "execution_count": 37,
   "metadata": {},
   "outputs": [
    {
     "data": {
      "text/html": [
       "<div>\n",
       "<style scoped>\n",
       "    .dataframe tbody tr th:only-of-type {\n",
       "        vertical-align: middle;\n",
       "    }\n",
       "\n",
       "    .dataframe tbody tr th {\n",
       "        vertical-align: top;\n",
       "    }\n",
       "\n",
       "    .dataframe thead th {\n",
       "        text-align: right;\n",
       "    }\n",
       "</style>\n",
       "<table border=\"1\" class=\"dataframe\">\n",
       "  <thead>\n",
       "    <tr style=\"text-align: right;\">\n",
       "      <th></th>\n",
       "      <th>movieId</th>\n",
       "      <th>title</th>\n",
       "      <th>genres</th>\n",
       "    </tr>\n",
       "  </thead>\n",
       "  <tbody>\n",
       "    <tr>\n",
       "      <th>0</th>\n",
       "      <td>1</td>\n",
       "      <td>Toy Story (1995)</td>\n",
       "      <td>Adventure|Animation|Children|Comedy|Fantasy</td>\n",
       "    </tr>\n",
       "    <tr>\n",
       "      <th>1</th>\n",
       "      <td>2</td>\n",
       "      <td>Jumanji (1995)</td>\n",
       "      <td>Adventure|Children|Fantasy</td>\n",
       "    </tr>\n",
       "    <tr>\n",
       "      <th>2</th>\n",
       "      <td>3</td>\n",
       "      <td>Grumpier Old Men (1995)</td>\n",
       "      <td>Comedy|Romance</td>\n",
       "    </tr>\n",
       "    <tr>\n",
       "      <th>3</th>\n",
       "      <td>4</td>\n",
       "      <td>Waiting to Exhale (1995)</td>\n",
       "      <td>Comedy|Drama|Romance</td>\n",
       "    </tr>\n",
       "    <tr>\n",
       "      <th>4</th>\n",
       "      <td>5</td>\n",
       "      <td>Father of the Bride Part II (1995)</td>\n",
       "      <td>Comedy</td>\n",
       "    </tr>\n",
       "  </tbody>\n",
       "</table>\n",
       "</div>"
      ],
      "text/plain": [
       "   movieId                               title  \\\n",
       "0        1                    Toy Story (1995)   \n",
       "1        2                      Jumanji (1995)   \n",
       "2        3             Grumpier Old Men (1995)   \n",
       "3        4            Waiting to Exhale (1995)   \n",
       "4        5  Father of the Bride Part II (1995)   \n",
       "\n",
       "                                        genres  \n",
       "0  Adventure|Animation|Children|Comedy|Fantasy  \n",
       "1                   Adventure|Children|Fantasy  \n",
       "2                               Comedy|Romance  \n",
       "3                         Comedy|Drama|Romance  \n",
       "4                                       Comedy  "
      ]
     },
     "execution_count": 37,
     "metadata": {},
     "output_type": "execute_result"
    }
   ],
   "source": [
    "movies.head()"
   ]
  },
  {
   "cell_type": "code",
   "execution_count": 38,
   "metadata": {},
   "outputs": [
    {
     "data": {
      "text/html": [
       "<div>\n",
       "<style scoped>\n",
       "    .dataframe tbody tr th:only-of-type {\n",
       "        vertical-align: middle;\n",
       "    }\n",
       "\n",
       "    .dataframe tbody tr th {\n",
       "        vertical-align: top;\n",
       "    }\n",
       "\n",
       "    .dataframe thead th {\n",
       "        text-align: right;\n",
       "    }\n",
       "</style>\n",
       "<table border=\"1\" class=\"dataframe\">\n",
       "  <thead>\n",
       "    <tr style=\"text-align: right;\">\n",
       "      <th></th>\n",
       "      <th>movieId</th>\n",
       "      <th>title_cast</th>\n",
       "      <th>director</th>\n",
       "      <th>runtime</th>\n",
       "      <th>budget</th>\n",
       "      <th>plot_keywords</th>\n",
       "    </tr>\n",
       "  </thead>\n",
       "  <tbody>\n",
       "    <tr>\n",
       "      <th>0</th>\n",
       "      <td>1</td>\n",
       "      <td>Tom Hanks|Tim Allen|Don Rickles|Jim Varney|Wal...</td>\n",
       "      <td>John Lasseter</td>\n",
       "      <td>81.0</td>\n",
       "      <td>$30,000,000</td>\n",
       "      <td>toy|rivalry|cowboy|cgi animation</td>\n",
       "    </tr>\n",
       "    <tr>\n",
       "      <th>1</th>\n",
       "      <td>2</td>\n",
       "      <td>Robin Williams|Jonathan Hyde|Kirsten Dunst|Bra...</td>\n",
       "      <td>Jonathan Hensleigh</td>\n",
       "      <td>104.0</td>\n",
       "      <td>$65,000,000</td>\n",
       "      <td>board game|adventurer|fight|game</td>\n",
       "    </tr>\n",
       "    <tr>\n",
       "      <th>2</th>\n",
       "      <td>3</td>\n",
       "      <td>Walter Matthau|Jack Lemmon|Sophia Loren|Ann-Ma...</td>\n",
       "      <td>Mark Steven Johnson</td>\n",
       "      <td>101.0</td>\n",
       "      <td>$25,000,000</td>\n",
       "      <td>boat|lake|neighbor|rivalry</td>\n",
       "    </tr>\n",
       "    <tr>\n",
       "      <th>3</th>\n",
       "      <td>4</td>\n",
       "      <td>Whitney Houston|Angela Bassett|Loretta Devine|...</td>\n",
       "      <td>Terry McMillan</td>\n",
       "      <td>124.0</td>\n",
       "      <td>$16,000,000</td>\n",
       "      <td>black american|husband wife relationship|betra...</td>\n",
       "    </tr>\n",
       "    <tr>\n",
       "      <th>4</th>\n",
       "      <td>5</td>\n",
       "      <td>Steve Martin|Diane Keaton|Martin Short|Kimberl...</td>\n",
       "      <td>Albert Hackett</td>\n",
       "      <td>106.0</td>\n",
       "      <td>$30,000,000</td>\n",
       "      <td>fatherhood|doberman|dog|mansion</td>\n",
       "    </tr>\n",
       "  </tbody>\n",
       "</table>\n",
       "</div>"
      ],
      "text/plain": [
       "   movieId                                         title_cast  \\\n",
       "0        1  Tom Hanks|Tim Allen|Don Rickles|Jim Varney|Wal...   \n",
       "1        2  Robin Williams|Jonathan Hyde|Kirsten Dunst|Bra...   \n",
       "2        3  Walter Matthau|Jack Lemmon|Sophia Loren|Ann-Ma...   \n",
       "3        4  Whitney Houston|Angela Bassett|Loretta Devine|...   \n",
       "4        5  Steve Martin|Diane Keaton|Martin Short|Kimberl...   \n",
       "\n",
       "              director  runtime       budget  \\\n",
       "0        John Lasseter     81.0  $30,000,000   \n",
       "1   Jonathan Hensleigh    104.0  $65,000,000   \n",
       "2  Mark Steven Johnson    101.0  $25,000,000   \n",
       "3       Terry McMillan    124.0  $16,000,000   \n",
       "4       Albert Hackett    106.0  $30,000,000   \n",
       "\n",
       "                                       plot_keywords  \n",
       "0                   toy|rivalry|cowboy|cgi animation  \n",
       "1                   board game|adventurer|fight|game  \n",
       "2                         boat|lake|neighbor|rivalry  \n",
       "3  black american|husband wife relationship|betra...  \n",
       "4                    fatherhood|doberman|dog|mansion  "
      ]
     },
     "execution_count": 38,
     "metadata": {},
     "output_type": "execute_result"
    }
   ],
   "source": [
    "imdb.head()"
   ]
  },
  {
   "cell_type": "code",
   "execution_count": 39,
   "metadata": {},
   "outputs": [
    {
     "data": {
      "text/html": [
       "<div>\n",
       "<style scoped>\n",
       "    .dataframe tbody tr th:only-of-type {\n",
       "        vertical-align: middle;\n",
       "    }\n",
       "\n",
       "    .dataframe tbody tr th {\n",
       "        vertical-align: top;\n",
       "    }\n",
       "\n",
       "    .dataframe thead th {\n",
       "        text-align: right;\n",
       "    }\n",
       "</style>\n",
       "<table border=\"1\" class=\"dataframe\">\n",
       "  <thead>\n",
       "    <tr style=\"text-align: right;\">\n",
       "      <th></th>\n",
       "      <th>movieId</th>\n",
       "      <th>imdbId</th>\n",
       "      <th>tmdbId</th>\n",
       "    </tr>\n",
       "  </thead>\n",
       "  <tbody>\n",
       "    <tr>\n",
       "      <th>0</th>\n",
       "      <td>1</td>\n",
       "      <td>114709</td>\n",
       "      <td>862.0</td>\n",
       "    </tr>\n",
       "    <tr>\n",
       "      <th>1</th>\n",
       "      <td>2</td>\n",
       "      <td>113497</td>\n",
       "      <td>8844.0</td>\n",
       "    </tr>\n",
       "    <tr>\n",
       "      <th>2</th>\n",
       "      <td>3</td>\n",
       "      <td>113228</td>\n",
       "      <td>15602.0</td>\n",
       "    </tr>\n",
       "    <tr>\n",
       "      <th>3</th>\n",
       "      <td>4</td>\n",
       "      <td>114885</td>\n",
       "      <td>31357.0</td>\n",
       "    </tr>\n",
       "    <tr>\n",
       "      <th>4</th>\n",
       "      <td>5</td>\n",
       "      <td>113041</td>\n",
       "      <td>11862.0</td>\n",
       "    </tr>\n",
       "  </tbody>\n",
       "</table>\n",
       "</div>"
      ],
      "text/plain": [
       "   movieId  imdbId   tmdbId\n",
       "0        1  114709    862.0\n",
       "1        2  113497   8844.0\n",
       "2        3  113228  15602.0\n",
       "3        4  114885  31357.0\n",
       "4        5  113041  11862.0"
      ]
     },
     "execution_count": 39,
     "metadata": {},
     "output_type": "execute_result"
    }
   ],
   "source": [
    "links.head()"
   ]
  },
  {
   "cell_type": "code",
   "execution_count": 40,
   "metadata": {},
   "outputs": [
    {
     "data": {
      "text/html": [
       "<div>\n",
       "<style scoped>\n",
       "    .dataframe tbody tr th:only-of-type {\n",
       "        vertical-align: middle;\n",
       "    }\n",
       "\n",
       "    .dataframe tbody tr th {\n",
       "        vertical-align: top;\n",
       "    }\n",
       "\n",
       "    .dataframe thead th {\n",
       "        text-align: right;\n",
       "    }\n",
       "</style>\n",
       "<table border=\"1\" class=\"dataframe\">\n",
       "  <thead>\n",
       "    <tr style=\"text-align: right;\">\n",
       "      <th></th>\n",
       "      <th>userId</th>\n",
       "      <th>movieId</th>\n",
       "      <th>tag</th>\n",
       "      <th>timestamp</th>\n",
       "    </tr>\n",
       "  </thead>\n",
       "  <tbody>\n",
       "    <tr>\n",
       "      <th>0</th>\n",
       "      <td>3</td>\n",
       "      <td>260</td>\n",
       "      <td>classic</td>\n",
       "      <td>1439472355</td>\n",
       "    </tr>\n",
       "    <tr>\n",
       "      <th>1</th>\n",
       "      <td>3</td>\n",
       "      <td>260</td>\n",
       "      <td>sci-fi</td>\n",
       "      <td>1439472256</td>\n",
       "    </tr>\n",
       "    <tr>\n",
       "      <th>2</th>\n",
       "      <td>4</td>\n",
       "      <td>1732</td>\n",
       "      <td>dark comedy</td>\n",
       "      <td>1573943598</td>\n",
       "    </tr>\n",
       "    <tr>\n",
       "      <th>3</th>\n",
       "      <td>4</td>\n",
       "      <td>1732</td>\n",
       "      <td>great dialogue</td>\n",
       "      <td>1573943604</td>\n",
       "    </tr>\n",
       "    <tr>\n",
       "      <th>4</th>\n",
       "      <td>4</td>\n",
       "      <td>7569</td>\n",
       "      <td>so bad it's good</td>\n",
       "      <td>1573943455</td>\n",
       "    </tr>\n",
       "  </tbody>\n",
       "</table>\n",
       "</div>"
      ],
      "text/plain": [
       "   userId  movieId               tag   timestamp\n",
       "0       3      260           classic  1439472355\n",
       "1       3      260            sci-fi  1439472256\n",
       "2       4     1732       dark comedy  1573943598\n",
       "3       4     1732    great dialogue  1573943604\n",
       "4       4     7569  so bad it's good  1573943455"
      ]
     },
     "execution_count": 40,
     "metadata": {},
     "output_type": "execute_result"
    }
   ],
   "source": [
    "tags.head()"
   ]
  },
  {
   "cell_type": "markdown",
   "metadata": {},
   "source": [
    "# Exploratory Data Analysis"
   ]
  },
  {
   "cell_type": "code",
   "execution_count": null,
   "metadata": {},
   "outputs": [],
   "source": []
  },
  {
   "cell_type": "markdown",
   "metadata": {},
   "source": [
    "## Splitting the genres and title_casts into lists"
   ]
  },
  {
   "cell_type": "code",
   "execution_count": null,
   "metadata": {},
   "outputs": [],
   "source": [
    "#extracting released year\n",
    "movies['release_year']=movies['title'].str[-5:-1] \n",
    "#spliting the genres into a list\n",
    "movies['genres']=movies['genres'].str.split('|') \n",
    "#concatinate ratings with movies dataframe\n",
    "movies.dropna() \n",
    "movies.head()"
   ]
  },
  {
   "cell_type": "code",
   "execution_count": null,
   "metadata": {},
   "outputs": [],
   "source": [
    "#spliting the title cast into a list\n",
    "imdb['title_cast']=imdb['title_cast'].str.split('|') \n",
    "imdb.head()"
   ]
  },
  {
   "cell_type": "markdown",
   "metadata": {},
   "source": [
    "##  Basic analysis of the trainset"
   ]
  },
  {
   "cell_type": "code",
   "execution_count": null,
   "metadata": {},
   "outputs": [],
   "source": [
    "# We analysing the train set\n",
    "print(\"Total Train Data:\")\n",
    "print(\"Total number of movie ratings in Train data = \"+str(train.shape[0]))\n",
    "print(\"Number of unique users in Train data = \"+str(len(np.unique(train[\"userId\"]))))\n",
    "print(\"Number of unique movies in Train data = \"+str(len(np.unique(train[\"movieId\"]))))\n",
    "print(\"Highest value of a User ID = \"+str(max(train[\"userId\"].values)))\n",
    "print(\"Highest value of a Movie ID = \"+str(max(train[\"movieId\"].values)))"
   ]
  },
  {
   "cell_type": "markdown",
   "metadata": {},
   "source": [
    "Our trainset consists of 10 000 038 movie ratings, 162 541 unique users and a total of 48 213 movies."
   ]
  },
  {
   "cell_type": "markdown",
   "metadata": {},
   "source": [
    "## Concatinating the dataset"
   ]
  },
  {
   "cell_type": "code",
   "execution_count": null,
   "metadata": {},
   "outputs": [],
   "source": [
    "con = pd.concat([train,movies], axis=1)\n",
    "con.head()"
   ]
  },
  {
   "cell_type": "code",
   "execution_count": null,
   "metadata": {},
   "outputs": [],
   "source": [
    "df= pd.concat([imdb,con], axis=1)\n",
    "df.dropna(inplace=True)\n",
    "df.head()"
   ]
  },
  {
   "cell_type": "markdown",
   "metadata": {},
   "source": [
    "## Ratings\n",
    "\n",
    "Ratings have been the most popular source of knowledge for recommender system to present users preferences from the early 1990s to more recent years."
   ]
  },
  {
   "cell_type": "code",
   "execution_count": null,
   "metadata": {},
   "outputs": [],
   "source": [
    "# Distplot of ratings \n",
    "sns.distplot(df[\"rating\"], color='purple');"
   ]
  },
  {
   "cell_type": "markdown",
   "metadata": {},
   "source": [
    "Most movies recieved ratings of 4, while others recieved less."
   ]
  },
  {
   "cell_type": "markdown",
   "metadata": {},
   "source": [
    "### User Ratings"
   ]
  },
  {
   "cell_type": "code",
   "execution_count": null,
   "metadata": {},
   "outputs": [],
   "source": [
    "# No of ratings per users\n",
    "no_of_rated_movies_per_user = df.groupby(by = \"userId\")[\"rating\"].count().sort_values(ascending = False)\n",
    "\n",
    "no_of_rated_movies_per_user.head()"
   ]
  },
  {
   "cell_type": "markdown",
   "metadata": {},
   "source": [
    "The user who have rated most movies with 12952 ratings is user no 72315"
   ]
  },
  {
   "cell_type": "markdown",
   "metadata": {},
   "source": [
    "## Heatmap"
   ]
  },
  {
   "cell_type": "code",
   "execution_count": null,
   "metadata": {},
   "outputs": [],
   "source": [
    "correlation = con.corr()\n",
    "\n",
    "# create a mask and only show half of the cells \n",
    "mask = np.zeros_like(correlation)\n",
    "mask[np.triu_indices_from(mask)] = True\n",
    "\n",
    "\n",
    "fig = plt.figure(figsize = (20, 10))\n",
    "\n",
    "# plot the data using seaborn\n",
    "ax = sns.heatmap(correlation, \n",
    "                 mask = mask, \n",
    "                 vmax = 0.3, \n",
    "                 square = True,  \n",
    "                 cmap = \"viridis\",\n",
    "                 color = \"teal\")\n",
    "\n",
    "ax.set_title(\"Correlation between features\");"
   ]
  },
  {
   "cell_type": "markdown",
   "metadata": {},
   "source": [
    "There is a clear correlation between the movieId and Timestamp because movie lengths are not the same."
   ]
  },
  {
   "cell_type": "markdown",
   "metadata": {},
   "source": [
    "## Genres"
   ]
  },
  {
   "cell_type": "markdown",
   "metadata": {},
   "source": [
    "A **Wordcloud** (or Tag cloud) is a visual representation of text data. It displays a list of words, the importance of each beeing shown with font size or color. This format is useful for quickly perceiving the most prominent terms."
   ]
  },
  {
   "cell_type": "code",
   "execution_count": null,
   "metadata": {},
   "outputs": [],
   "source": [
    "from wordcloud import WordCloud, STOPWORDS, ImageColorGenerator\n",
    "gen = df['genres'].explode()\n",
    "text = list(set(gen))\n",
    "plt.rcParams['figure.figsize'] = (13, 13)\n",
    "wordcloud = WordCloud(max_font_size=50, max_words=100,background_color=\"purple\").generate(str(text))\n",
    "\n",
    "plt.imshow(wordcloud,interpolation=\"bilinear\")\n",
    "plt.axis(\"off\")\n",
    "plt.show()"
   ]
  },
  {
   "cell_type": "code",
   "execution_count": null,
   "metadata": {},
   "outputs": [],
   "source": [
    "# Ploting top genres in the Dataset\n",
    "plt.figure(figsize=(20, 10))\n",
    "gen = df['genres'].explode()\n",
    "ax=sns.countplot(x=gen, order=gen.value_counts().index[:30],color='purple')\n",
    "ax.set_title('Top Genres', fontsize=15)\n",
    "plt.xticks(rotation =90)\n",
    "plt.show()"
   ]
  },
  {
   "cell_type": "markdown",
   "metadata": {},
   "source": [
    "Drama is the most commonly occuring genre with almost half of the movies identifying itself as a drama film. Comedy comes in at a distant second with 25% of the movies having adequate doses of humor. Other major genres in the top 10 are Thriller, Romance,Action, Horror, Documentary and Crime."
   ]
  },
  {
   "cell_type": "markdown",
   "metadata": {},
   "source": [
    "## Movies per year\n",
    "\n",
    "The dataset has 48213 movies avalable to us. it is reasonable to assume that it does include almost every major film released during those years with this assumptions in mind, let us take a look at the number of movies produced by the year."
   ]
  },
  {
   "cell_type": "code",
   "execution_count": null,
   "metadata": {},
   "outputs": [],
   "source": [
    "# Plot movies released per year\n",
    "plt.figure(figsize=(15,10))\n",
    "sns.set(style=\"darkgrid\")\n",
    "ax = sns.countplot(y='release_year', data=df, order=df['release_year'].value_counts().index[0:30],color='purple')\n",
    "ax.set_title('TOTAL MOVIES RELEASED PER YEAR', fontsize= 20)"
   ]
  },
  {
   "cell_type": "markdown",
   "metadata": {},
   "source": [
    "2015 has the most released movies with over 2500 movies, least movies were released in 1993 with less than 700 movies released."
   ]
  },
  {
   "cell_type": "markdown",
   "metadata": {},
   "source": [
    "## Tags\n",
    "These tags allows users to attach free plot keywords."
   ]
  },
  {
   "cell_type": "code",
   "execution_count": null,
   "metadata": {},
   "outputs": [],
   "source": [
    "tagg = tags['tag']\n",
    "tagg.dropna(inplace=True)"
   ]
  },
  {
   "cell_type": "code",
   "execution_count": null,
   "metadata": {},
   "outputs": [],
   "source": [
    "#Plot tags \n",
    "plt.figure(figsize=(15, 5))\n",
    "ax = sns.countplot(x=tagg, order = tagg.value_counts().index[:20],color = 'purple')\n",
    "ax.set_title('Top Tags', fontsize=15)\n",
    "plt.xticks(rotation=90)\n",
    "plt.show"
   ]
  },
  {
   "cell_type": "markdown",
   "metadata": {},
   "source": [
    "Sci-fi is the most popular tag while classic has the least number of counts."
   ]
  },
  {
   "cell_type": "markdown",
   "metadata": {},
   "source": [
    "##  Casts\n",
    "Let us now take a look at the cast of our movies."
   ]
  },
  {
   "cell_type": "code",
   "execution_count": null,
   "metadata": {},
   "outputs": [],
   "source": [
    "# Plot popular cast\n",
    "plt.figure(figsize = (20,5))\n",
    "cast=imdb['title_cast'].explode()\n",
    "ax=sns.countplot(x=cast, order = cast.value_counts().index[:30],color='purple')\n",
    "ax.set_title('Popular Cast',fontsize=15)\n",
    "plt.xticks(rotation=90)\n",
    "plt.show()"
   ]
  },
  {
   "cell_type": "markdown",
   "metadata": {},
   "source": [
    "The most popular cast in all movies appears to be Samuel L Jackson, appearing in over 80 movies. "
   ]
  },
  {
   "cell_type": "markdown",
   "metadata": {},
   "source": [
    "## Runtime\n",
    "From its humble beginnings of 1 minute silent, black & white clips to epic 3 hour visual delights, movies have a come a long way in terms of runtime. In this section, let us try and gain some additional insights about the nature of movie lengths and their evolution over time."
   ]
  },
  {
   "cell_type": "code",
   "execution_count": null,
   "metadata": {},
   "outputs": [],
   "source": [
    "#Plot the Runtime\n",
    "sns.set(style=\"darkgrid\", )\n",
    "sns.kdeplot(data=df['runtime'], shade=True, color='purple')"
   ]
  },
  {
   "cell_type": "code",
   "execution_count": null,
   "metadata": {},
   "outputs": [],
   "source": [
    "# Describe the runtime \n",
    "df['runtime'].describe()"
   ]
  },
  {
   "cell_type": "markdown",
   "metadata": {},
   "source": [
    "The average length of a movie is about 1 hour 40 minutes long. The longest movie on record in this dataset is a staggering 877 minutes(approximately 15 hours long)"
   ]
  },
  {
   "cell_type": "markdown",
   "metadata": {},
   "source": [
    "### Shortest movies"
   ]
  },
  {
   "cell_type": "code",
   "execution_count": null,
   "metadata": {},
   "outputs": [],
   "source": [
    "# Show movies with short lengths\n",
    "df[df['runtime'] > 0][['runtime', 'title', 'release_year']].sort_values('runtime').head(10)"
   ]
  },
  {
   "cell_type": "markdown",
   "metadata": {},
   "source": [
    "The shortest movie length is 'my Brother is the only child which was released in 2006."
   ]
  },
  {
   "cell_type": "markdown",
   "metadata": {},
   "source": [
    "### Longest Movies "
   ]
  },
  {
   "cell_type": "code",
   "execution_count": null,
   "metadata": {},
   "outputs": [],
   "source": [
    "#Show movies with long lengths \n",
    "df[df['runtime'] > 0][['runtime', 'title', 'release_year']].sort_values('runtime', ascending=False).head(10)"
   ]
  },
  {
   "cell_type": "markdown",
   "metadata": {},
   "source": [
    "The longest movie length with the runtime of 877 minutes wit a runtime of 877 minutes is the 'Ring of fire' released in 2013."
   ]
  },
  {
   "cell_type": "markdown",
   "metadata": {},
   "source": [
    "# Data Preprocessing"
   ]
  },
  {
   "cell_type": "markdown",
   "metadata": {},
   "source": [
    "Data Preparation is one of the indispensable steps in any Machine Learning development life cycle. In today’s world, the data is present in a structured as well as unstructured form. To deal with such data, data scientists spent almost 70–80% of their time in preparing data for further analysis. [Data Preprocessing steps in Python for any Machine Learning Algorithm](https://medium.com/@prtk13061992/data-preprocessing-steps-in-python-for-any-machine-learning-algorithm-2d52b57fa098)"
   ]
  },
  {
   "attachments": {
    "Data%20Preparation.jpeg": {
     "image/jpeg": "[encoded data removed]"
    }
   },
   "cell_type": "markdown",
   "metadata": {},
   "source": [
    "![Data%20Preparation.jpeg](attachment:Data%20Preparation.jpeg)"
   ]
  },
  {
   "cell_type": "markdown",
   "metadata": {},
   "source": [
    "## Merging Datasets\n",
    "Our Data is currently stored in mutiple dataframes with various infromation that we would like to see in all one place, in a nicely formated, easy to interpret and perform further analysis."
   ]
  },
  {
   "cell_type": "code",
   "execution_count": null,
   "metadata": {},
   "outputs": [],
   "source": [
    "metadata =pd.merge(movies,imdb,how = 'left',on = 'movieId')\n",
    "genome_score_tags = pd.merge(genome_scores,genome_tags, how='left',on='tagId')"
   ]
  },
  {
   "cell_type": "code",
   "execution_count": null,
   "metadata": {},
   "outputs": [],
   "source": [
    "stat_metadata = metadata.copy()\n",
    "stat_genome_score_tags = genome_score_tags.copy()\n",
    "stat_metadata = pd.DataFrame(metadata.describe())\n",
    "stat_genome_score_tags = pd.DataFrame(genome_score_tags.describe())"
   ]
  },
  {
   "cell_type": "code",
   "execution_count": null,
   "metadata": {},
   "outputs": [],
   "source": [
    "#Function to display all data\n",
    "def data_overview_display(dataframe_list,column_names=[]):\n",
    "    \"\"\"\n",
    "    Displays multiple dataframes in one cell.\n",
    "\n",
    "    Parameter(s):\n",
    "    -------------\n",
    "    dataframe_list(DataFrame(s)): an input of dataframe(s) as list.\n",
    "    column_names(string): list of string.\n",
    "    \n",
    "    Return\n",
    "    ------\n",
    "    display_html(DataFrame(s)): returns multiple of dataframes in one cell.\n",
    "    \n",
    "    \"\"\"\n",
    "    html_string = ''\n",
    "    html_string += ('<tr>' + ''.join(f'<td style=\"text-align:center\">{name}</td>' for name in column_names) + '</tr>')\n",
    "    html_string += ('<tr>' + ''.join(f'<td style=\"vertical-align:top\"> {df.to_html(index=True)}</td>' for df in dataframe_list) + '</tr>')\n",
    "    html_string = f'<table>{html_string}</table>'\n",
    "    html_string = html_string.replace('table','table style=\"display:inline\"')\n",
    "    display_html(html_string, raw=True)"
   ]
  },
  {
   "cell_type": "code",
   "execution_count": null,
   "metadata": {},
   "outputs": [],
   "source": [
    "#Generate the overview\n",
    "data_overview_display([stat_metadata,stat_genome_score_tags], column_names=['stat_metadata','stat_genome_score_tags'])"
   ]
  },
  {
   "cell_type": "markdown",
   "metadata": {},
   "source": [
    "The Overall Statistical Analysis for the merged dataset doesn't tell us alot of imfromation as some of the datapoints contain very large numbers and some columns are not numerical, making it difficult to perfom basic statistical analysis. To invesitage further we will look into the dataframes column by column to a clear description of the dataset by looking at the count, perecntage of missing values aswell as the datatype for each column."
   ]
  },
  {
   "cell_type": "code",
   "execution_count": null,
   "metadata": {},
   "outputs": [],
   "source": [
    "print(f'The metadata dataset has {metadata.shape[0]} rows/entries and {len(metadata.columns)} columns')\n",
    "percentange=metadata.isnull().mean().round(4) * 100\n",
    "count = metadata.isnull().sum()\n",
    "count_percentage = pd.DataFrame({'Count':count,'Percentage': percentange,'data_type':metadata.dtypes},\n",
    "                                index=metadata.columns)\n",
    "count_percentage"
   ]
  },
  {
   "cell_type": "markdown",
   "metadata": {},
   "source": [
    "It appears that most of the columns in the Dataset has over 75 % of missing values, meaning that our dataset has caputured only 25% or less information from the real world data. Missing Values is a common occurance when dealing with real world data. There are various ways to handle missing values the most effective technique being imputing missing values with either a 0 or using aggregate methods such as mean and median."
   ]
  },
  {
   "cell_type": "markdown",
   "metadata": {},
   "source": [
    "## Handling Missing Values"
   ]
  },
  {
   "attachments": {
    "Missing%20Values.jpg": {
     "image/jpeg": "[encoded data removed]"
    }
   },
   "cell_type": "markdown",
   "metadata": {},
   "source": [
    "![Missing%20Values.jpg](attachment:Missing%20Values.jpg)"
   ]
  },
  {
   "cell_type": "markdown",
   "metadata": {},
   "source": [
    "Before making any decision on how to impute missing values there are aspects we need to investigate which will act as a guide on how to impute the datapoints we currently do not have, we need to look into wether or not the real occurance of the missing values is a question of mishandled data or could it be that the event didn't occur and once that is established we can find the effective method to impute the missing values without changing the underlying information of the data.\n",
    "##### Columns with missing values\n",
    "***title_cast (75.65%)*** : Every Movie has a title cast, however we can that our dataset has a high percent of missing values for this information and it will be a tedious process to look for the cast memebers for 47222 movies. for this reason we will have to drop this column\n",
    "\n",
    "***director (75.41%)*** : Same with Directors, therefore drop column.\n",
    "\n",
    "***runtime (78.34%)*** : Runtime relates to the duration of the movie, in most cases movies tend to have approximately the same avarage runtime, for this reason we will impute missing values for this column with an aggragate mean method.\n",
    "\n",
    "***budget (88.33%)*** : It is clear that the budget has an approximate 90% of missing values. According to [Investopedia](https://www.investopedia.com/articles/investing/093015/how-exactly-do-movies-make-money.asp) Production Companies do not diclose thier full budget, for this reasn drop column.\n",
    "\n",
    "***plot_keywords (76.96%)*** : Attaining accurate plot key words for 48039 would be a tedious procces for ths reason drop coulm."
   ]
  },
  {
   "cell_type": "code",
   "execution_count": 22,
   "metadata": {},
   "outputs": [],
   "source": [
    "metadata1 = metadata.copy() \n",
    "\n",
    "metadata1.drop(['title_cast','director','budget','plot_keywords'],\n",
    "  axis='columns',inplace=True)\n",
    "\n",
    "metadata1['runtime'].fillna((metadata1['runtime'].mean()), inplace=True)"
   ]
  },
  {
   "cell_type": "markdown",
   "metadata": {},
   "source": [
    "Now that we don't have any missing values we can merge the two dataframes into one dataframe in order to maximamize analysis on our data and the underlying information that could be used for market segmentation."
   ]
  },
  {
   "cell_type": "code",
   "execution_count": 23,
   "metadata": {},
   "outputs": [],
   "source": [
    "df = pd.merge(metadata1,genome_score_tags,how = 'left',on = 'movieId')"
   ]
  },
  {
   "cell_type": "code",
   "execution_count": 24,
   "metadata": {},
   "outputs": [],
   "source": [
    "#extracting released year\n",
    "df['release_year']=df['title'].str[-5:-1] \n",
    "df['release_year'].replace('[^\\(.*\\)?]','', regex=True)\n",
    "#spliting the genres into a list\n",
    "df['genres']=df['genres'].str.split('|')"
   ]
  },
  {
   "cell_type": "code",
   "execution_count": 25,
   "metadata": {},
   "outputs": [
    {
     "name": "stdout",
     "output_type": "stream",
     "text": [
      "The train_df dataset 23190655 rows/entries and 11 coulumns\n",
      "The test_df dataset 22765400 rows/entries and 9 coulumns\n"
     ]
    }
   ],
   "source": [
    "#merge the dataframe to train_set and test_set\n",
    "train_min = train[:10000] # use the subset of the train_set for computational space\n",
    "train_df =pd.merge(df,train_min,how = 'left',on = 'movieId')\n",
    "test_min = test[:10000] #use the subset of the test_set for computational space\n",
    "test_df = pd.merge(df,test_min,how = 'left',on = 'movieId')\n",
    "print(f'The train_df dataset {test_df.shape[0]} rows/entries and {len(train_df.columns)} coulumns') #visualize the results\n",
    "print(f'The test_df dataset {train_df.shape[0]} rows/entries and {len(test_df.columns)} coulumns') #visualize the resuts"
   ]
  },
  {
   "cell_type": "code",
   "execution_count": 26,
   "metadata": {},
   "outputs": [],
   "source": [
    "train_df.drop('timestamp',axis=1,inplace=True) # Drop any column that is present in the train_set but not in the test_set"
   ]
  },
  {
   "cell_type": "code",
   "execution_count": 27,
   "metadata": {},
   "outputs": [
    {
     "data": {
      "text/plain": [
       "(22765400, 9)"
      ]
     },
     "execution_count": 27,
     "metadata": {},
     "output_type": "execute_result"
    }
   ],
   "source": [
    "train_features = train_df.drop(['rating']\n",
    "                ,axis=1) # reserve the ratings as this would be used a target variable for our training algorithm\n",
    "train_features.shape"
   ]
  },
  {
   "cell_type": "markdown",
   "metadata": {},
   "source": [
    "TF-IDF stands for Term Frequency — Inverse Document Frequency and is a statistic that aims to better define how important a word is for a document, while also taking into account the relation to other documents from the same corpus.[TF-IDF Explained And Python Sklearn Implementation](https://towardsdatascience.com/tf-idf-explained-and-python-sklearn-implementation-b020c5e83275). Currently our dataset is not all numeric, in order to use advanced Machine Learning visualization techniques we need to ensure that all datapoints in our data are in numeric datatypes."
   ]
  },
  {
   "attachments": {
    "image.png": {
     "image/png": "[encoded data removed]"
    }
   },
   "cell_type": "markdown",
   "metadata": {},
   "source": [
    "![image.png](attachment:image.png)"
   ]
  },
  {
   "cell_type": "code",
   "execution_count": 28,
   "metadata": {},
   "outputs": [],
   "source": [
    "tf = TfidfVectorizer(smooth_idf=False, sublinear_tf=False, norm=None, analyzer='char')\n",
    "train_transformed = tf.fit_transform(train_features).toarray()"
   ]
  },
  {
   "attachments": {},
   "cell_type": "markdown",
   "metadata": {},
   "source": [
    "# Principal component analysis (PCA)\n",
    "PCA is used in exploratory data analysis and for making predictive models. It is commonly used for dimensionality reduction by projecting each data point onto only the first few principal components to obtain lower-dimensional data while preserving as much of the data's variation as possible. The first principal component can equivalently be defined as a direction that maximizes the variance of the projected data.[Principal component analysis](https://en.wikipedia.org/wiki/Principal_component_analysis). It is formulated using Linear Alegraba and statistics.\n",
    "\n",
    "We might want to visualize the Relationship that exists within our data using a scatter plot however with more than 2 featuures acheiving these results would be impossible hence techniques such as PCA are powerful, lets say we want to visualize which users by genre,release and runtime, to better understand how our users are likey to watch a specific movie based on the duration and wether on not is recent or old.\n",
    "\n",
    "We are only going to use PCA to perfom visualiazation to better understand our Users, this information can be used later when we are implementing Marketing strategies, The insights might help to directly target our audience with products or services that speaks specifically to that user."
   ]
  },
  {
   "cell_type": "code",
   "execution_count": 10,
   "metadata": {},
   "outputs": [
    {
     "data": {
      "image/jpeg": "[encoded data removed]",
      "text/html": [
       "\n",
       "        <iframe\n",
       "            width=\"900\"\n",
       "            height=\"400\"\n",
       "            src=\"https://www.youtube.com/embed/FgakZw6K1QQ\"\n",
       "            frameborder=\"0\"\n",
       "            allowfullscreen\n",
       "        ></iframe>\n",
       "        "
      ],
      "text/plain": [
       "<IPython.lib.display.YouTubeVideo at 0x26b6095e7c8>"
      ]
     },
     "execution_count": 10,
     "metadata": {},
     "output_type": "execute_result"
    }
   ],
   "source": [
    "from IPython.display import YouTubeVideo\n",
    "id ='FgakZw6K1QQ'\n",
    "YouTubeVideo(id=id, width=900, height=400)"
   ]
  },
  {
   "cell_type": "markdown",
   "metadata": {},
   "source": [
    "If we are to apply PCA on such a dataset whose variability of columns differs in order, the effect of those relatively “smooth” features will be totally overwhelmed by the most furious one. To remedy the problem, we scale the data.StandardScaler transforms the data in such a manner that it has mean as 0 and standard deviation as 1."
   ]
  },
  {
   "cell_type": "code",
   "execution_count": 19,
   "metadata": {},
   "outputs": [],
   "source": [
    "scaler = StandardScaler(with_mean=False)\n",
    "pca =PCA()\n",
    "pipeline = make_pipeline(scaler,pca)"
   ]
  },
  {
   "cell_type": "code",
   "execution_count": 146,
   "metadata": {},
   "outputs": [
    {
     "data": {
      "image/png": "[encoded data removed]",
      "text/plain": [
       "<Figure size 432x288 with 1 Axes>"
      ]
     },
     "metadata": {
      "needs_background": "light"
     },
     "output_type": "display_data"
    }
   ],
   "source": [
    "#plot the variance vs PCA features to visualize how our data is spread out\n",
    "pipeline.fit_transform(train_transformed)\n",
    "features=range(pca.n_components_)\n",
    "features = features\n",
    "plt.bar(features,pca.explained_variance_)\n",
    "plt.xlabel('PCA feature')\n",
    "plt.ylabel('variance')\n",
    "plt.xticks(features)\n",
    "plt.show()"
   ]
  },
  {
   "cell_type": "markdown",
   "metadata": {},
   "source": [
    "From the above bar chart we can conclude that of the 10 features in our Dataset it "
   ]
  },
  {
   "cell_type": "markdown",
   "metadata": {},
   "source": [
    "# Elbow Method ("
   ]
  },
  {
   "cell_type": "code",
   "execution_count": null,
   "metadata": {},
   "outputs": [],
   "source": [
    "scaler = StandardScaler(with_mean=False)\n",
    "scaled= scaler.fit_transform(train_transformed)\n",
    "wcss = []\n",
    "for i in range(1, 10):\n",
    "    kmeans = KMeans(n_clusters = i, init = 'k-means++', random_state = 42)\n",
    "    kmeans.fit(scaled)\n",
    "    wcss.append(kmeans.inertia_)\n",
    "plt.plot(range(1, 10), wcss)\n",
    "plt.title('The Elbow Method')\n",
    "plt.xlabel('Number of clusters')\n",
    "plt.ylabel('WCSS')\n",
    "plt.show()"
   ]
  },
  {
   "cell_type": "code",
   "execution_count": null,
   "metadata": {},
   "outputs": [],
   "source": [
    "kmeans = KMeans(n_clusters = 3)\n",
    "y_kmeans = kmeans.fit_predict(scaled)"
   ]
  },
  {
   "cell_type": "code",
   "execution_count": 195,
   "metadata": {},
   "outputs": [],
   "source": [
    "plt.scatter(scaled[y_kmeans == 0, 0],scaled[y_kmeans == 0, 1], s = 100, c = 'red', label = 'Cluster 1')\n",
    "plt.scatter(scaled[y_kmeans == 1, 0], scaled[y_kmeans == 1, 1], s = 100, c = 'blue', label = 'Cluster 2')\n",
    "plt.scatter(scaled[y_kmeans == 2, 0], scaled[y_kmeans == 2, 1], s = 100, c = 'green', label = 'Cluster 3')\n",
    "plt.scatter(kmeans.cluster_centers_[:, 0], kmeans.cluster_centers_[:, 1], s = 300, c = 'yellow', label = 'Centroids')\n",
    "plt.title('Clusters')\n",
    "plt.xlabel('feature 1')\n",
    "plt.ylabel('feature 2')\n",
    "plt.legend()\n",
    "plt.show()"
   ]
  },
  {
   "cell_type": "markdown",
   "metadata": {},
   "source": [
    "# Modelling"
   ]
  },
  {
   "cell_type": "markdown",
   "metadata": {},
   "source": [
    "## Content-Based Filtering"
   ]
  },
  {
   "cell_type": "markdown",
   "metadata": {},
   "source": [
    "![movies](.\\Images\\movies.png) \n",
    "\n",
    "\n",
    "In trying to achieve the ultimate user experience that keeps users coming back to use the product. The company needs to tailor the product to the user through a filtering process.A content-based recommender system strives to create the best user experience by tailoring the product to the user.This is done by using content based filtering methods,these methods utilise the desciption of the characteristics of the item such as the genre, category, tags etc.With all that theory in mind.The Content-Based Recommendation system that we built computes similarity between movies based on movie genres. It will suggest movies that are most similar to a particular movie based on its genre. The movies.csv dataset is used to build the recommender.\n"
   ]
  },
  {
   "cell_type": "code",
   "execution_count": 8,
   "metadata": {},
   "outputs": [],
   "source": [
    "# Break up the big genre string into a string array\n",
    "movies['genres'] = movies['genres'].str.split('|')\n",
    "# Convert genres to string value\n",
    "movies['genres'] = movies['genres'].fillna(\"\").astype('str')"
   ]
  },
  {
   "cell_type": "code",
   "execution_count": 9,
   "metadata": {},
   "outputs": [
    {
     "data": {
      "text/plain": [
       "(20000,)"
      ]
     },
     "execution_count": 9,
     "metadata": {},
     "output_type": "execute_result"
    }
   ],
   "source": [
    "#create a sample of the movies genres  \n",
    "sample_genre= movies['genres'].head(20000)\n",
    "sample_genre.shape"
   ]
  },
  {
   "cell_type": "markdown",
   "metadata": {},
   "source": [
    "### Vectorizing the content "
   ]
  },
  {
   "cell_type": "markdown",
   "metadata": {},
   "source": [
    "The concepts of **Term Frequency (TF)** and **Inverse Document Frequency (IDF)** are used in information retrieval systems and also content based filtering mechanisms (such as a content based recommender). They are used to determine the relative importance of a document / article / news item / movie etc.\n",
    "\n",
    "TF is simply the frequency of a word in a document. IDF is the inverse of the document frequency among the whole corpus of documents. TF-IDF is used mainly because of two reasons: Suppose we search for “the results of latest European Socccer games” on Google. It is certain that “the” will occur more frequently than “soccer games” but the relative importance of soccer games is higher than the search query point of view. In such cases, TF-IDF weighting negates the effect of high frequency words in determining the importance of an item (document).\n",
    "\n",
    "The TfidfVectorizer function from scikit-learn was used to transforms text to feature vectors that can be used as input to estimator."
   ]
  },
  {
   "cell_type": "code",
   "execution_count": 10,
   "metadata": {},
   "outputs": [],
   "source": [
    "#create a vectorizer\n",
    "tf = TfidfVectorizer(analyzer='word',ngram_range=(1, 2),min_df=0, stop_words='english')\n",
    "genre_vec = tf.fit_transform(sample_genre)"
   ]
  },
  {
   "cell_type": "markdown",
   "metadata": {},
   "source": [
    "### Finding the Similarities between movies"
   ]
  },
  {
   "cell_type": "markdown",
   "metadata": {},
   "source": [
    "To find the similarities between two movies we made use of the **[Cosine Similarity](https://masongallo.github.io/machine/learning,/python/2016/07/29/cosine-similarity.html)** to calculate a numeric quantity that denotes the similarity between the two movies.We made use of sklearn's linear_kernel to generate the cosine similarities. "
   ]
  },
  {
   "cell_type": "code",
   "execution_count": 11,
   "metadata": {},
   "outputs": [],
   "source": [
    "cosine_sim = linear_kernel(genre_vec, genre_vec)\n",
    "cosine_sim[:4, :4]"
   ]
  },
  {
   "cell_type": "markdown",
   "metadata": {},
   "source": [
    "Now that we have a consine similarity matrix for all the movies in the dataset.The next step was to write a function that returns the 10 most similar movies based on the consine similarity score. "
   ]
  },
  {
   "cell_type": "code",
   "execution_count": 12,
   "metadata": {},
   "outputs": [],
   "source": [
    "\n",
    "    \"\"\"\n",
    "    Returns top 10 movie recommended movies based on movie title\n",
    "    \n",
    "    Parameter\n",
    "    ---------\n",
    "    movie_title(str): a string title of a movie.\n",
    "    \n",
    "    Return\n",
    "    ------\n",
    "    recommended_movies(str): list of recommeded movies.\n",
    "    \n",
    "    \"\"\"\n",
    "    # Build a 1-dimensional array with movie titles\n",
    "    movie_index=pd.Series(movies.index,index=movies['title'])\n",
    "    \n",
    "    #generate  similarities between the movie title and movie index based on genre\n",
    "    similarities=list(enumerate(cosine_sim[movie_index[movie_title]]))\n",
    "    #generate the top 10 similarities\n",
    "    similarities = sorted(similarities, key=lambda x: x[1], reverse=True)[1:11]\n",
    "    recommended_movies= movies['title'].iloc[[i[0] for i in similarities]]\n",
    "    \n",
    "    return recommended_movies"
   ]
  },
  {
   "cell_type": "markdown",
   "metadata": {},
   "source": [
    "### Top 10 recommendations based on a movie title "
   ]
  },
  {
   "cell_type": "code",
   "execution_count": 13,
   "metadata": {},
   "outputs": [
    {
     "data": {
      "text/plain": [
       "2203                                           Antz (1998)\n",
       "3021                                    Toy Story 2 (1999)\n",
       "3653        Adventures of Rocky and Bullwinkle, The (2000)\n",
       "3912                      Emperor's New Groove, The (2000)\n",
       "4780                                 Monsters, Inc. (2001)\n",
       "9949     DuckTales: The Movie - Treasure of the Lost La...\n",
       "10773                                     Wild, The (2006)\n",
       "11604                               Shrek the Third (2007)\n",
       "12969                       Tale of Despereaux, The (2008)\n",
       "17431    Asterix and the Vikings (Astérix et les Viking...\n",
       "Name: title, dtype: object"
      ]
     },
     "execution_count": 13,
     "metadata": {},
     "output_type": "execute_result"
    }
   ],
   "source": [
    "genre_recommendations('Toy Story (1995)')"
   ]
  },
  {
   "cell_type": "code",
   "execution_count": 14,
   "metadata": {},
   "outputs": [
    {
     "data": {
      "text/plain": [
       "10                  American President, The (1995)\n",
       "51                         Mighty Aphrodite (1995)\n",
       "57               Postman, The (Postino, Il) (1994)\n",
       "92                          Beautiful Girls (1996)\n",
       "193                 Something to Talk About (1995)\n",
       "221                        Don Juan DeMarco (1995)\n",
       "229    Eat Drink Man Woman (Yin shi nan nu) (1994)\n",
       "278                           Nobody's Fool (1994)\n",
       "346                        Corrina, Corrina (1994)\n",
       "354                     I Like It Like That (1994)\n",
       "Name: title, dtype: object"
      ]
     },
     "execution_count": 14,
     "metadata": {},
     "output_type": "execute_result"
    }
   ],
   "source": [
    "genre_recommendations('Waiting to Exhale (1995)')"
   ]
  },
  {
   "cell_type": "markdown",
   "metadata": {},
   "source": [
    "The recommender system gave decent recommendations for **Toy Story** (Animation, Children's, Comedy) and **Waiting to Exhale** (Comedy, Drama,Romance). \n",
    "\n",
    "Overall some of the pros of using content-based recommendation is :\n",
    "\n",
    "* No need for data on other users, thus no cold-start or sparsity problems.\n",
    "* Can recommend to users with unique tastes.\n",
    "* Can recommend new & unpopular items.\n",
    "* Can provide explanations for recommended items by listing content-features that caused an item to be recommended (in this case, movie genres)\n",
    "\n",
    "However some of the limitations are :\n",
    "\n",
    "* It does not recommend items outside a user's content profile\n",
    "* It is unable to exploit quality judgements of other users"
   ]
  },
  {
   "cell_type": "markdown",
   "metadata": {},
   "source": [
    "## Collaborative-Based Filtering\n",
    "Collaborative Filtering is the most common technique used when it comes to building intelligent recommender systems that can learn to give better recommendations as more information about users is collected.\n",
    "\n",
    "Collaborative filtering is a technique that can filter out items that a user might like on the basis of reactions by similar users. It works by searching a large group of people and finding a smaller set of users with tastes similar to a particular user. It looks at the items they like and combines them to create a ranked list of suggestions."
   ]
  },
  {
   "cell_type": "markdown",
   "metadata": {},
   "source": [
    "Surprise is a Python scikit for building and analyzing recommender systems that deal with explicit rating data.\n",
    "\n",
    "***Surprise:***\n",
    "\n",
    "* Provides various ready-to-use prediction algorithms such as baseline algorithms, neighborhood methods, matrix factorization-based ( SVD, PMF, SVDpp, NMF), and many others.\n",
    "* Provides tools to evaluate, analyse and compare the algorithms’ performance.\n"
   ]
  },
  {
   "cell_type": "markdown",
   "metadata": {},
   "source": [
    "From the Suprise library, the follwoing algorithms were used:\n",
    "\n",
    "### Basic algorithms\n",
    "***NormalPredictor:*** this algorithm predicts a random rating based on the distribution of the training set, which is assumed to be normal.\n",
    "\n",
    "***BaselineOnly:*** this algorithm predicts the baseline estimate for given user and item.\n",
    "\n",
    "### k-NN algorithms\n",
    "***KNNBasic:*** this is a basic collaborative filtering algorithm.\n",
    "\n",
    "***KNNWithMeans:*** this is a basic collaborative filtering algorithm, taking into account the mean ratings of each user.\n",
    "\n",
    "***KNNWithZScore:*** this is a basic collaborative filtering algorithm, taking into account the z-score normalization of each user.\n",
    "\n",
    "***KNNBaseline:*** is a basic collaborative filtering algorithm taking into account a baseline rating.\n",
    "\n",
    "### Matrix Factorization-based algorithms\n",
    "***SVD:*** this algorithm is equivalent to Probabilistic Matrix Factorization ( which makes use of data provided by users with similar preferences to offer recommendations to a particular user).\n",
    "\n",
    "***SVDpp:*** this algorithm is an extension of SVD that takes into account implicit ratings.\n",
    "\n",
    "***NMF:*** this is a collaborative filtering algorithm based on Non-negative Matrix Factorization. It is very similar with SVD.\n",
    "\n",
    "***SlopeOne:*** this is a straightforward implementation of the SlopeOne algorithm.\n",
    "\n",
    "***Coclustering:*** is a collaborative filtering algorithm based on co-clustering.\n"
   ]
  },
  {
   "cell_type": "markdown",
   "metadata": {},
   "source": [
    "### Using the Suprise Library"
   ]
  },
  {
   "cell_type": "code",
   "execution_count": null,
   "metadata": {},
   "outputs": [],
   "source": [
    "#Loading 10000 dataset\n",
    "data = Dataset.load_from_df(train[['userId', 'movieId', 'rating']].head(10000), Reader)"
   ]
  },
  {
   "cell_type": "code",
   "execution_count": null,
   "metadata": {},
   "outputs": [],
   "source": [
    " #Implement an algorithm\n",
    "algo = [SVD(), SVDpp(), SlopeOne(), NMF(), NormalPredictor(), KNNBaseline(), \n",
    "                  KNNBasic(), KNNWithMeans(), KNNWithZScore(), BaselineOnly(), CoClustering()]\n",
    "\n",
    "#Read 10000 dataset\n",
    "data2 = Dataset.load_from_df(train[['userId', 'movieId', 'rating']].head(10000), Reader())\n",
    "\n",
    "#Implementing algorithm for RMSE\n",
    "algo_rmse=[]\n",
    "for a in algo:\n",
    "    \n",
    "    cross_valid=cross_validate(a, data2, measures=['RMSE'], cv = 3)\n",
    "    output=pd.DataFrame.from_dict(cross_valid).mean(axis=0)\n",
    "    output=output.append(pd.Series([str(a).split(' ')[0].split('.')[-1]], index=['Algorithm']))\n",
    "    algo_rmse.append(output)\n",
    "\n",
    "algo_rmse\n",
    "surprise_results = pd.DataFrame(algo_rmse).set_index('Algorithm').sort_values('test_rmse')\n",
    "surprise_results"
   ]
  },
  {
   "cell_type": "markdown",
   "metadata": {},
   "source": [
    "Based on the table above containing test_rmse, fit_time, test_time values for the algorithms, we notice that the SVDpp, SVD and BaselineOnly algorithms are top three best performing algorithms. So we use the best performing top three for prediction and to find the Root Mean Squared Error (RMSE) values."
   ]
  },
  {
   "cell_type": "markdown",
   "metadata": {},
   "source": [
    "#### Predicting with SVDpp algorithm"
   ]
  },
  {
   "cell_type": "code",
   "execution_count": null,
   "metadata": {},
   "outputs": [],
   "source": [
    "#Loading 100000 dataset\n",
    "data4 = Dataset.load_from_df(train[['userId', 'movieId', 'rating']].head(100000), Reader()) "
   ]
  },
  {
   "cell_type": "code",
   "execution_count": null,
   "metadata": {},
   "outputs": [],
   "source": [
    "trainset, testset = train_test_split(data4, test_size=0.05)"
   ]
  },
  {
   "cell_type": "code",
   "execution_count": null,
   "metadata": {},
   "outputs": [],
   "source": [
    "from surprise import accuracy\n",
    "#SVDpp model\n",
    "svdpp=SVDpp(n_epochs = 30, n_factors = 200, init_std_dev = 0.05, random_state=42)\n",
    "\n",
    "#Fitting the model\n",
    "svdpp.fit(trainset)\n",
    "\n",
    "# Making prediction on the validation dataset\n",
    "test_pred= svdpp.test(testset)\n",
    "\n",
    "#Evaluating model performance\n",
    "rsme_collabo = accuracy.rmse(test_pred,\n",
    "                             verbose=True)"
   ]
  },
  {
   "cell_type": "code",
   "execution_count": null,
   "metadata": {},
   "outputs": [],
   "source": [
    "#Predicting the rating for each user and movie\n",
    "ratings=[]\n",
    "for x,y in test.itertuples(index=False):\n",
    "    output=svdpp.predict(x,y)\n",
    "    ratings.append(output)\n",
    "    \n",
    "output_df=pd.DataFrame(ratings)[['uid','iid','est']]\n",
    "output_df['ID']=output_df['uid'].astype(str) + '_' + output_df['iid'].astype(str)\n",
    "output_df=output_df[['ID','est']]\n",
    "output_df.head()"
   ]
  },
  {
   "cell_type": "code",
   "execution_count": null,
   "metadata": {},
   "outputs": [],
   "source": [
    "#Creating the \"results\" dataframe and convert to csv\n",
    "results = pd.DataFrame({\"Id\":output_df['ID'],\"rating\": output_df['est']})\n",
    "results.to_csv(\"SVDpp.csv\", index=False)"
   ]
  },
  {
   "cell_type": "markdown",
   "metadata": {},
   "source": [
    "#### Predicting with BaselineOnly algorithm"
   ]
  },
  {
   "cell_type": "code",
   "execution_count": null,
   "metadata": {},
   "outputs": [],
   "source": [
    "#Loading 1100000 dataset\n",
    "data5 = Dataset.load_from_df(train[['userId', 'movieId', 'rating']].head(1100000), Reader()) "
   ]
  },
  {
   "cell_type": "code",
   "execution_count": null,
   "metadata": {},
   "outputs": [],
   "source": [
    "trainset, testset = train_test_split(data5, test_size=0.05)"
   ]
  },
  {
   "cell_type": "code",
   "execution_count": null,
   "metadata": {},
   "outputs": [],
   "source": [
    "from surprise import accuracy\n",
    "#BaselineOnly model\n",
    "bsl_options = {'method': 'sgd','n_epochs': 40}\n",
    "blo=BaselineOnly(bsl_options=bsl_options)\n",
    "\n",
    "#Fitting the model\n",
    "blo.fit(trainset)\n",
    "\n",
    "# Making prediction on the validation dataset\n",
    "test_pred= blo.test(testset)\n",
    "\n",
    "#Evaluating model performance\n",
    "rsme_collabo = accuracy.rmse(test_pred,\n",
    "                             verbose=True)"
   ]
  },
  {
   "cell_type": "code",
   "execution_count": null,
   "metadata": {},
   "outputs": [],
   "source": [
    "#Predicting the rating for each user and movie\n",
    "ratings=[]\n",
    "for x,y in test.itertuples(index=False):\n",
    "    output=blo.predict(x,y)\n",
    "    ratings.append(output)\n",
    "    \n",
    "output_df=pd.DataFrame(ratings)[['uid','iid','est']]\n",
    "output_df['ID']=output_df['uid'].astype(str) + '_' + output_df['iid'].astype(str)\n",
    "output_df=output_df[['ID','est']]\n",
    "output_df.head()"
   ]
  },
  {
   "cell_type": "code",
   "execution_count": null,
   "metadata": {},
   "outputs": [],
   "source": [
    "#Creating the \"results\" dataframe and convert to csv\n",
    "results = pd.DataFrame({\"Id\":output_df['ID'],\"rating\": output_df['est']})\n",
    "results.to_csv(\"blo.csv\", index=False)"
   ]
  },
  {
   "cell_type": "markdown",
   "metadata": {},
   "source": [
    "#### Predicting with SVD algorithm"
   ]
  },
  {
   "cell_type": "code",
   "execution_count": null,
   "metadata": {},
   "outputs": [],
   "source": [
    "#Loading 1000000 dataset\n",
    "data3 = Dataset.load_from_df(train[['userId', 'movieId', 'rating']].head(1000000), Reader()) "
   ]
  },
  {
   "cell_type": "code",
   "execution_count": null,
   "metadata": {},
   "outputs": [],
   "source": [
    "trainset, testset = train_test_split(data3, test_size=0.05)"
   ]
  },
  {
   "cell_type": "code",
   "execution_count": null,
   "metadata": {},
   "outputs": [],
   "source": [
    "from surprise import accuracy\n",
    "#SVD model\n",
    "svd=SVD(n_epochs = 30, n_factors = 200, init_std_dev = 0.05, random_state=42)\n",
    "\n",
    "#Fitting the model\n",
    "svd.fit(trainset)\n",
    "\n",
    "# Making prediction on the validation dataset\n",
    "test_pred= svd.test(testset)\n",
    "\n",
    "#Evaluating model performance\n",
    "rsme_collabo = accuracy.rmse(test_pred,\n",
    "                             verbose=True)"
   ]
  },
  {
   "cell_type": "code",
   "execution_count": null,
   "metadata": {},
   "outputs": [],
   "source": [
    "#Predicting the rating for each user and movie\n",
    "ratings=[]\n",
    "for x,y in test.itertuples(index=False):\n",
    "    output=svd.predict(x,y)\n",
    "    ratings.append(output)\n",
    "    \n",
    "output_df=pd.DataFrame(ratings)[['uid','iid','est']]\n",
    "output_df['ID']=output_df['uid'].astype(str) + '_' + output_df['iid'].astype(str)\n",
    "output_df=output_df[['ID','est']]\n",
    "output_df.head()"
   ]
  },
  {
   "cell_type": "code",
   "execution_count": null,
   "metadata": {},
   "outputs": [],
   "source": [
    "#Creating the \"results\" dataframe and convert to csv\n",
    "results = pd.DataFrame({\"Id\":output_df['ID'],\"rating\": output_df['est']})\n",
    "results.to_csv(\"SVD.csv\", index=False)"
   ]
  },
  {
   "cell_type": "markdown",
   "metadata": {},
   "source": [
    "### Hyperparameter Tuning\n",
    "\n",
    "Hyperparameter tuning is the process of determining the right combination of hyperparameters that allows the model to maximize model performance. Setting the correct combination of hyperparameters is the only way to extract the maximum performance out of models.\n",
    "\n",
    "We decided to hypertune the SVD algorithm model, which was the best performing amongst the top three algorithm (since it had the lowest RMSE value)."
   ]
  },
  {
   "cell_type": "code",
   "execution_count": null,
   "metadata": {},
   "outputs": [],
   "source": [
    "param_grid = {'n_epochs':[40], #[30,40,50],\n",
    "              'n_factors':[400], #[100,200,300,400],\n",
    "              'init_std_dev':[0.005], #[0.001,0.005,0.05,0.1],\n",
    "              'random_state':[42]} \n",
    "grid_SVD = GridSearchCV(SVD, cv=5, measures=['rmse'], param_grid=param_grid, n_jobs=-1)\n",
    "grid_SVD.fit(data3)\n",
    "print('***Best score:***')\n",
    "print(grid_SVD.best_score['rmse'])\n",
    "print('***Best parameters:***')\n",
    "print(grid_SVD.best_params['rmse'])"
   ]
  },
  {
   "cell_type": "code",
   "execution_count": null,
   "metadata": {},
   "outputs": [],
   "source": []
  },
  {
   "cell_type": "markdown",
   "metadata": {},
   "source": [
    "# Conclusion"
   ]
  },
  {
   "cell_type": "markdown",
   "metadata": {},
   "source": [
    "# References\n",
    "\n",
    "* https://www.sciencedirect.com/science/article/pii/S1110866515000341#:~:text=Recommender%20system%20has%20the%20ability,online%20shopping%20environment%20%5B4%5D\n",
    "* https://realpython.com/build-recommendation-engine-collaborative-filtering/\n",
    "* https://surprise.readthedocs.io/en/stable/getting_started.html \n",
    "* http://surpriselib.com/#:~:text=Surprise%20is%20a%20Python%20scikit,perfect%20control%20over%20their%20experiments\n",
    "* https://towardsdatascience.com/building-and-testing-recommender-systems-with-surprise-step-by-step-d4ba702ef80b\n",
    "* https://neptune.ai/blog/hyperparameter-tuning-in-python-a-complete-guide-2020"
   ]
  },
  {
   "cell_type": "code",
   "execution_count": null,
   "metadata": {},
   "outputs": [],
   "source": [
    "experiment.end()"
   ]
  },
  {
   "cell_type": "code",
   "execution_count": null,
   "metadata": {},
   "outputs": [],
   "source": [
    "experiment.display()"
   ]
  }
 ],
 "metadata": {
  "kernelspec": {
   "display_name": "Python 3",
   "language": "python",
   "name": "python3"
  },
  "language_info": {
   "codemirror_mode": {
    "name": "ipython",
    "version": 3
   },
   "file_extension": ".py",
   "mimetype": "text/x-python",
   "name": "python",
   "nbconvert_exporter": "python",
   "pygments_lexer": "ipython3",
   "version": "3.7.6"
  },
  "toc": {
   "base_numbering": 1,
   "nav_menu": {},
   "number_sections": true,
   "sideBar": true,
   "skip_h1_title": false,
   "title_cell": "Table of Contents",
   "title_sidebar": "Contents",
   "toc_cell": true,
   "toc_position": {},
   "toc_section_display": true,
   "toc_window_display": false
  }
 },
 "nbformat": 4,
 "nbformat_minor": 4
}
